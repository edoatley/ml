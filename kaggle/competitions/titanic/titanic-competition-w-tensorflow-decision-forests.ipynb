{
 "cells": [
  {
   "cell_type": "markdown",
   "id": "14ad322a",
   "metadata": {
    "papermill": {
     "duration": 0.009041,
     "end_time": "2023-05-18T10:30:46.149968",
     "exception": false,
     "start_time": "2023-05-18T10:30:46.140927",
     "status": "completed"
    },
    "tags": []
   },
   "source": [
    "# Titanic competition with TensorFlow Decision Forests\n",
    "\n",
    "This notebook will take you through the steps needed to train a baseline Gradient Boosted Trees Model using TensorFlow Decision Forests and creating a submission on the Titanic competition. \n",
    "\n",
    "This notebook shows:\n",
    "\n",
    "1. How to do some basic pre-processing. For example, the passenger names will be tokenized, and ticket names will be splitted in parts.\n",
    "1. How to train a Gradient Boosted Trees (GBT) with default parameters\n",
    "1. How to train a GBT with improved default parameters\n",
    "1. How to tune the parameters of a GBTs\n",
    "1. How to train and ensemble many GBTs"
   ]
  },
  {
   "cell_type": "markdown",
   "id": "e1b37618",
   "metadata": {
    "papermill": {
     "duration": 0.007644,
     "end_time": "2023-05-18T10:30:46.165684",
     "exception": false,
     "start_time": "2023-05-18T10:30:46.158040",
     "status": "completed"
    },
    "tags": []
   },
   "source": [
    "# Imports dependencies"
   ]
  },
  {
   "cell_type": "code",
   "execution_count": 18,
   "id": "58766b0c",
   "metadata": {
    "execution": {
     "iopub.execute_input": "2023-05-18T10:30:46.184015Z",
     "iopub.status.busy": "2023-05-18T10:30:46.183207Z",
     "iopub.status.idle": "2023-05-18T10:30:56.048327Z",
     "shell.execute_reply": "2023-05-18T10:30:56.046442Z"
    },
    "papermill": {
     "duration": 9.877832,
     "end_time": "2023-05-18T10:30:56.051537",
     "exception": false,
     "start_time": "2023-05-18T10:30:46.173705",
     "status": "completed"
    },
    "tags": []
   },
   "outputs": [
    {
     "name": "stdout",
     "output_type": "stream",
     "text": [
      "Found TF-DF 1.9.0\n"
     ]
    }
   ],
   "source": [
    "import numpy as np\n",
    "import pandas as pd\n",
    "import os\n",
    "\n",
    "import tensorflow as tf\n",
    "import tensorflow_decision_forests as tfdf\n",
    "\n",
    "print(f\"Found TF-DF {tfdf.__version__}\")"
   ]
  },
  {
   "cell_type": "markdown",
   "id": "c6b86c6e",
   "metadata": {
    "papermill": {
     "duration": 0.008393,
     "end_time": "2023-05-18T10:30:56.068502",
     "exception": false,
     "start_time": "2023-05-18T10:30:56.060109",
     "status": "completed"
    },
    "tags": []
   },
   "source": [
    "# Load dataset"
   ]
  },
  {
   "cell_type": "code",
   "execution_count": 19,
   "id": "c1bd1480",
   "metadata": {
    "execution": {
     "iopub.execute_input": "2023-05-18T10:30:56.087356Z",
     "iopub.status.busy": "2023-05-18T10:30:56.086566Z",
     "iopub.status.idle": "2023-05-18T10:30:56.153903Z",
     "shell.execute_reply": "2023-05-18T10:30:56.152399Z"
    },
    "papermill": {
     "duration": 0.080398,
     "end_time": "2023-05-18T10:30:56.157107",
     "exception": false,
     "start_time": "2023-05-18T10:30:56.076709",
     "status": "completed"
    },
    "tags": []
   },
   "outputs": [
    {
     "data": {
      "text/html": [
       "<div>\n",
       "<style scoped>\n",
       "    .dataframe tbody tr th:only-of-type {\n",
       "        vertical-align: middle;\n",
       "    }\n",
       "\n",
       "    .dataframe tbody tr th {\n",
       "        vertical-align: top;\n",
       "    }\n",
       "\n",
       "    .dataframe thead th {\n",
       "        text-align: right;\n",
       "    }\n",
       "</style>\n",
       "<table border=\"1\" class=\"dataframe\">\n",
       "  <thead>\n",
       "    <tr style=\"text-align: right;\">\n",
       "      <th></th>\n",
       "      <th>PassengerId</th>\n",
       "      <th>Survived</th>\n",
       "      <th>Pclass</th>\n",
       "      <th>Name</th>\n",
       "      <th>Sex</th>\n",
       "      <th>Age</th>\n",
       "      <th>SibSp</th>\n",
       "      <th>Parch</th>\n",
       "      <th>Ticket</th>\n",
       "      <th>Fare</th>\n",
       "      <th>Cabin</th>\n",
       "      <th>Embarked</th>\n",
       "    </tr>\n",
       "  </thead>\n",
       "  <tbody>\n",
       "    <tr>\n",
       "      <th>0</th>\n",
       "      <td>1</td>\n",
       "      <td>0</td>\n",
       "      <td>3</td>\n",
       "      <td>Braund, Mr. Owen Harris</td>\n",
       "      <td>male</td>\n",
       "      <td>22.0</td>\n",
       "      <td>1</td>\n",
       "      <td>0</td>\n",
       "      <td>A/5 21171</td>\n",
       "      <td>7.2500</td>\n",
       "      <td>NaN</td>\n",
       "      <td>S</td>\n",
       "    </tr>\n",
       "    <tr>\n",
       "      <th>1</th>\n",
       "      <td>2</td>\n",
       "      <td>1</td>\n",
       "      <td>1</td>\n",
       "      <td>Cumings, Mrs. John Bradley (Florence Briggs Th...</td>\n",
       "      <td>female</td>\n",
       "      <td>38.0</td>\n",
       "      <td>1</td>\n",
       "      <td>0</td>\n",
       "      <td>PC 17599</td>\n",
       "      <td>71.2833</td>\n",
       "      <td>C85</td>\n",
       "      <td>C</td>\n",
       "    </tr>\n",
       "    <tr>\n",
       "      <th>2</th>\n",
       "      <td>3</td>\n",
       "      <td>1</td>\n",
       "      <td>3</td>\n",
       "      <td>Heikkinen, Miss. Laina</td>\n",
       "      <td>female</td>\n",
       "      <td>26.0</td>\n",
       "      <td>0</td>\n",
       "      <td>0</td>\n",
       "      <td>STON/O2. 3101282</td>\n",
       "      <td>7.9250</td>\n",
       "      <td>NaN</td>\n",
       "      <td>S</td>\n",
       "    </tr>\n",
       "    <tr>\n",
       "      <th>3</th>\n",
       "      <td>4</td>\n",
       "      <td>1</td>\n",
       "      <td>1</td>\n",
       "      <td>Futrelle, Mrs. Jacques Heath (Lily May Peel)</td>\n",
       "      <td>female</td>\n",
       "      <td>35.0</td>\n",
       "      <td>1</td>\n",
       "      <td>0</td>\n",
       "      <td>113803</td>\n",
       "      <td>53.1000</td>\n",
       "      <td>C123</td>\n",
       "      <td>S</td>\n",
       "    </tr>\n",
       "    <tr>\n",
       "      <th>4</th>\n",
       "      <td>5</td>\n",
       "      <td>0</td>\n",
       "      <td>3</td>\n",
       "      <td>Allen, Mr. William Henry</td>\n",
       "      <td>male</td>\n",
       "      <td>35.0</td>\n",
       "      <td>0</td>\n",
       "      <td>0</td>\n",
       "      <td>373450</td>\n",
       "      <td>8.0500</td>\n",
       "      <td>NaN</td>\n",
       "      <td>S</td>\n",
       "    </tr>\n",
       "    <tr>\n",
       "      <th>5</th>\n",
       "      <td>6</td>\n",
       "      <td>0</td>\n",
       "      <td>3</td>\n",
       "      <td>Moran, Mr. James</td>\n",
       "      <td>male</td>\n",
       "      <td>NaN</td>\n",
       "      <td>0</td>\n",
       "      <td>0</td>\n",
       "      <td>330877</td>\n",
       "      <td>8.4583</td>\n",
       "      <td>NaN</td>\n",
       "      <td>Q</td>\n",
       "    </tr>\n",
       "    <tr>\n",
       "      <th>6</th>\n",
       "      <td>7</td>\n",
       "      <td>0</td>\n",
       "      <td>1</td>\n",
       "      <td>McCarthy, Mr. Timothy J</td>\n",
       "      <td>male</td>\n",
       "      <td>54.0</td>\n",
       "      <td>0</td>\n",
       "      <td>0</td>\n",
       "      <td>17463</td>\n",
       "      <td>51.8625</td>\n",
       "      <td>E46</td>\n",
       "      <td>S</td>\n",
       "    </tr>\n",
       "    <tr>\n",
       "      <th>7</th>\n",
       "      <td>8</td>\n",
       "      <td>0</td>\n",
       "      <td>3</td>\n",
       "      <td>Palsson, Master. Gosta Leonard</td>\n",
       "      <td>male</td>\n",
       "      <td>2.0</td>\n",
       "      <td>3</td>\n",
       "      <td>1</td>\n",
       "      <td>349909</td>\n",
       "      <td>21.0750</td>\n",
       "      <td>NaN</td>\n",
       "      <td>S</td>\n",
       "    </tr>\n",
       "    <tr>\n",
       "      <th>8</th>\n",
       "      <td>9</td>\n",
       "      <td>1</td>\n",
       "      <td>3</td>\n",
       "      <td>Johnson, Mrs. Oscar W (Elisabeth Vilhelmina Berg)</td>\n",
       "      <td>female</td>\n",
       "      <td>27.0</td>\n",
       "      <td>0</td>\n",
       "      <td>2</td>\n",
       "      <td>347742</td>\n",
       "      <td>11.1333</td>\n",
       "      <td>NaN</td>\n",
       "      <td>S</td>\n",
       "    </tr>\n",
       "    <tr>\n",
       "      <th>9</th>\n",
       "      <td>10</td>\n",
       "      <td>1</td>\n",
       "      <td>2</td>\n",
       "      <td>Nasser, Mrs. Nicholas (Adele Achem)</td>\n",
       "      <td>female</td>\n",
       "      <td>14.0</td>\n",
       "      <td>1</td>\n",
       "      <td>0</td>\n",
       "      <td>237736</td>\n",
       "      <td>30.0708</td>\n",
       "      <td>NaN</td>\n",
       "      <td>C</td>\n",
       "    </tr>\n",
       "  </tbody>\n",
       "</table>\n",
       "</div>"
      ],
      "text/plain": [
       "   PassengerId  Survived  Pclass  \\\n",
       "0            1         0       3   \n",
       "1            2         1       1   \n",
       "2            3         1       3   \n",
       "3            4         1       1   \n",
       "4            5         0       3   \n",
       "5            6         0       3   \n",
       "6            7         0       1   \n",
       "7            8         0       3   \n",
       "8            9         1       3   \n",
       "9           10         1       2   \n",
       "\n",
       "                                                Name     Sex   Age  SibSp  \\\n",
       "0                            Braund, Mr. Owen Harris    male  22.0      1   \n",
       "1  Cumings, Mrs. John Bradley (Florence Briggs Th...  female  38.0      1   \n",
       "2                             Heikkinen, Miss. Laina  female  26.0      0   \n",
       "3       Futrelle, Mrs. Jacques Heath (Lily May Peel)  female  35.0      1   \n",
       "4                           Allen, Mr. William Henry    male  35.0      0   \n",
       "5                                   Moran, Mr. James    male   NaN      0   \n",
       "6                            McCarthy, Mr. Timothy J    male  54.0      0   \n",
       "7                     Palsson, Master. Gosta Leonard    male   2.0      3   \n",
       "8  Johnson, Mrs. Oscar W (Elisabeth Vilhelmina Berg)  female  27.0      0   \n",
       "9                Nasser, Mrs. Nicholas (Adele Achem)  female  14.0      1   \n",
       "\n",
       "   Parch            Ticket     Fare Cabin Embarked  \n",
       "0      0         A/5 21171   7.2500   NaN        S  \n",
       "1      0          PC 17599  71.2833   C85        C  \n",
       "2      0  STON/O2. 3101282   7.9250   NaN        S  \n",
       "3      0            113803  53.1000  C123        S  \n",
       "4      0            373450   8.0500   NaN        S  \n",
       "5      0            330877   8.4583   NaN        Q  \n",
       "6      0             17463  51.8625   E46        S  \n",
       "7      1            349909  21.0750   NaN        S  \n",
       "8      2            347742  11.1333   NaN        S  \n",
       "9      0            237736  30.0708   NaN        C  "
      ]
     },
     "execution_count": 19,
     "metadata": {},
     "output_type": "execute_result"
    }
   ],
   "source": [
    "train_df = pd.read_csv(\"./inputs/train.csv\")\n",
    "serving_df = pd.read_csv(\"./inputs/test.csv\")\n",
    "\n",
    "train_df.head(10)"
   ]
  },
  {
   "cell_type": "markdown",
   "id": "334d80b8",
   "metadata": {
    "papermill": {
     "duration": 0.008374,
     "end_time": "2023-05-18T10:30:56.174348",
     "exception": false,
     "start_time": "2023-05-18T10:30:56.165974",
     "status": "completed"
    },
    "tags": []
   },
   "source": [
    "# Prepare dataset\n",
    "\n",
    "We will apply the following transformations on the dataset.\n",
    "\n",
    "1. Tokenize the names. For example, \"Braund, Mr. Owen Harris\" will become [\"Braund\", \"Mr.\", \"Owen\", \"Harris\"].\n",
    "2. Extract any prefix in the ticket. For example ticket \"STON/O2. 3101282\" will become \"STON/O2.\" and 3101282."
   ]
  },
  {
   "cell_type": "code",
   "execution_count": 20,
   "id": "64a35a90",
   "metadata": {
    "execution": {
     "iopub.execute_input": "2023-05-18T10:30:56.194311Z",
     "iopub.status.busy": "2023-05-18T10:30:56.193387Z",
     "iopub.status.idle": "2023-05-18T10:30:56.235430Z",
     "shell.execute_reply": "2023-05-18T10:30:56.234013Z"
    },
    "papermill": {
     "duration": 0.055455,
     "end_time": "2023-05-18T10:30:56.238539",
     "exception": false,
     "start_time": "2023-05-18T10:30:56.183084",
     "status": "completed"
    },
    "tags": []
   },
   "outputs": [
    {
     "data": {
      "text/html": [
       "<div>\n",
       "<style scoped>\n",
       "    .dataframe tbody tr th:only-of-type {\n",
       "        vertical-align: middle;\n",
       "    }\n",
       "\n",
       "    .dataframe tbody tr th {\n",
       "        vertical-align: top;\n",
       "    }\n",
       "\n",
       "    .dataframe thead th {\n",
       "        text-align: right;\n",
       "    }\n",
       "</style>\n",
       "<table border=\"1\" class=\"dataframe\">\n",
       "  <thead>\n",
       "    <tr style=\"text-align: right;\">\n",
       "      <th></th>\n",
       "      <th>PassengerId</th>\n",
       "      <th>Survived</th>\n",
       "      <th>Pclass</th>\n",
       "      <th>Name</th>\n",
       "      <th>Sex</th>\n",
       "      <th>Age</th>\n",
       "      <th>SibSp</th>\n",
       "      <th>Parch</th>\n",
       "      <th>Ticket</th>\n",
       "      <th>Fare</th>\n",
       "      <th>Cabin</th>\n",
       "      <th>Embarked</th>\n",
       "      <th>Ticket_number</th>\n",
       "      <th>Ticket_item</th>\n",
       "    </tr>\n",
       "  </thead>\n",
       "  <tbody>\n",
       "    <tr>\n",
       "      <th>0</th>\n",
       "      <td>1</td>\n",
       "      <td>0</td>\n",
       "      <td>3</td>\n",
       "      <td>Braund Mr Owen Harris</td>\n",
       "      <td>male</td>\n",
       "      <td>22.0</td>\n",
       "      <td>1</td>\n",
       "      <td>0</td>\n",
       "      <td>A/5 21171</td>\n",
       "      <td>7.2500</td>\n",
       "      <td>NaN</td>\n",
       "      <td>S</td>\n",
       "      <td>21171</td>\n",
       "      <td>A/5</td>\n",
       "    </tr>\n",
       "    <tr>\n",
       "      <th>1</th>\n",
       "      <td>2</td>\n",
       "      <td>1</td>\n",
       "      <td>1</td>\n",
       "      <td>Cumings Mrs John Bradley Florence Briggs Thayer</td>\n",
       "      <td>female</td>\n",
       "      <td>38.0</td>\n",
       "      <td>1</td>\n",
       "      <td>0</td>\n",
       "      <td>PC 17599</td>\n",
       "      <td>71.2833</td>\n",
       "      <td>C85</td>\n",
       "      <td>C</td>\n",
       "      <td>17599</td>\n",
       "      <td>PC</td>\n",
       "    </tr>\n",
       "    <tr>\n",
       "      <th>2</th>\n",
       "      <td>3</td>\n",
       "      <td>1</td>\n",
       "      <td>3</td>\n",
       "      <td>Heikkinen Miss Laina</td>\n",
       "      <td>female</td>\n",
       "      <td>26.0</td>\n",
       "      <td>0</td>\n",
       "      <td>0</td>\n",
       "      <td>STON/O2. 3101282</td>\n",
       "      <td>7.9250</td>\n",
       "      <td>NaN</td>\n",
       "      <td>S</td>\n",
       "      <td>3101282</td>\n",
       "      <td>STON/O2.</td>\n",
       "    </tr>\n",
       "    <tr>\n",
       "      <th>3</th>\n",
       "      <td>4</td>\n",
       "      <td>1</td>\n",
       "      <td>1</td>\n",
       "      <td>Futrelle Mrs Jacques Heath Lily May Peel</td>\n",
       "      <td>female</td>\n",
       "      <td>35.0</td>\n",
       "      <td>1</td>\n",
       "      <td>0</td>\n",
       "      <td>113803</td>\n",
       "      <td>53.1000</td>\n",
       "      <td>C123</td>\n",
       "      <td>S</td>\n",
       "      <td>113803</td>\n",
       "      <td>NONE</td>\n",
       "    </tr>\n",
       "    <tr>\n",
       "      <th>4</th>\n",
       "      <td>5</td>\n",
       "      <td>0</td>\n",
       "      <td>3</td>\n",
       "      <td>Allen Mr William Henry</td>\n",
       "      <td>male</td>\n",
       "      <td>35.0</td>\n",
       "      <td>0</td>\n",
       "      <td>0</td>\n",
       "      <td>373450</td>\n",
       "      <td>8.0500</td>\n",
       "      <td>NaN</td>\n",
       "      <td>S</td>\n",
       "      <td>373450</td>\n",
       "      <td>NONE</td>\n",
       "    </tr>\n",
       "  </tbody>\n",
       "</table>\n",
       "</div>"
      ],
      "text/plain": [
       "   PassengerId  Survived  Pclass  \\\n",
       "0            1         0       3   \n",
       "1            2         1       1   \n",
       "2            3         1       3   \n",
       "3            4         1       1   \n",
       "4            5         0       3   \n",
       "\n",
       "                                              Name     Sex   Age  SibSp  \\\n",
       "0                            Braund Mr Owen Harris    male  22.0      1   \n",
       "1  Cumings Mrs John Bradley Florence Briggs Thayer  female  38.0      1   \n",
       "2                             Heikkinen Miss Laina  female  26.0      0   \n",
       "3         Futrelle Mrs Jacques Heath Lily May Peel  female  35.0      1   \n",
       "4                           Allen Mr William Henry    male  35.0      0   \n",
       "\n",
       "   Parch            Ticket     Fare Cabin Embarked Ticket_number Ticket_item  \n",
       "0      0         A/5 21171   7.2500   NaN        S         21171         A/5  \n",
       "1      0          PC 17599  71.2833   C85        C         17599          PC  \n",
       "2      0  STON/O2. 3101282   7.9250   NaN        S       3101282    STON/O2.  \n",
       "3      0            113803  53.1000  C123        S        113803        NONE  \n",
       "4      0            373450   8.0500   NaN        S        373450        NONE  "
      ]
     },
     "execution_count": 20,
     "metadata": {},
     "output_type": "execute_result"
    }
   ],
   "source": [
    "def preprocess(df):\n",
    "    df = df.copy()\n",
    "    \n",
    "    def normalize_name(x):\n",
    "        return \" \".join([v.strip(\",()[].\\\"'\") for v in x.split(\" \")])\n",
    "    \n",
    "    def ticket_number(x):\n",
    "        return x.split(\" \")[-1]\n",
    "        \n",
    "    def ticket_item(x):\n",
    "        items = x.split(\" \")\n",
    "        if len(items) == 1:\n",
    "            return \"NONE\"\n",
    "        return \"_\".join(items[0:-1])\n",
    "    \n",
    "    df[\"Name\"] = df[\"Name\"].apply(normalize_name)\n",
    "    df[\"Ticket_number\"] = df[\"Ticket\"].apply(ticket_number)\n",
    "    df[\"Ticket_item\"] = df[\"Ticket\"].apply(ticket_item)                     \n",
    "    return df\n",
    "    \n",
    "preprocessed_train_df = preprocess(train_df)\n",
    "preprocessed_serving_df = preprocess(serving_df)\n",
    "\n",
    "preprocessed_train_df.head(5)"
   ]
  },
  {
   "cell_type": "markdown",
   "id": "25350e15",
   "metadata": {
    "papermill": {
     "duration": 0.008741,
     "end_time": "2023-05-18T10:30:56.256397",
     "exception": false,
     "start_time": "2023-05-18T10:30:56.247656",
     "status": "completed"
    },
    "tags": []
   },
   "source": [
    "Let's keep the list of the input features of the model. Notably, we don't want to train our model on the \"PassengerId\" and \"Ticket\" features."
   ]
  },
  {
   "cell_type": "code",
   "execution_count": 21,
   "id": "19722265",
   "metadata": {
    "execution": {
     "iopub.execute_input": "2023-05-18T10:30:56.276567Z",
     "iopub.status.busy": "2023-05-18T10:30:56.276120Z",
     "iopub.status.idle": "2023-05-18T10:30:56.283712Z",
     "shell.execute_reply": "2023-05-18T10:30:56.282042Z"
    },
    "papermill": {
     "duration": 0.0219,
     "end_time": "2023-05-18T10:30:56.287214",
     "exception": false,
     "start_time": "2023-05-18T10:30:56.265314",
     "status": "completed"
    },
    "tags": []
   },
   "outputs": [
    {
     "name": "stdout",
     "output_type": "stream",
     "text": [
      "Input features: ['Pclass', 'Name', 'Sex', 'Age', 'SibSp', 'Parch', 'Fare', 'Cabin', 'Embarked', 'Ticket_number', 'Ticket_item']\n"
     ]
    }
   ],
   "source": [
    "input_features = list(preprocessed_train_df.columns)\n",
    "input_features.remove(\"Ticket\")\n",
    "input_features.remove(\"PassengerId\")\n",
    "input_features.remove(\"Survived\")\n",
    "#input_features.remove(\"Ticket_number\")\n",
    "\n",
    "print(f\"Input features: {input_features}\")"
   ]
  },
  {
   "cell_type": "markdown",
   "id": "dc1f8550",
   "metadata": {
    "papermill": {
     "duration": 0.00868,
     "end_time": "2023-05-18T10:30:56.305032",
     "exception": false,
     "start_time": "2023-05-18T10:30:56.296352",
     "status": "completed"
    },
    "tags": []
   },
   "source": [
    "# Convert Pandas dataset to TensorFlow Dataset"
   ]
  },
  {
   "cell_type": "code",
   "execution_count": 22,
   "id": "83b109d7",
   "metadata": {
    "execution": {
     "iopub.execute_input": "2023-05-18T10:30:56.327328Z",
     "iopub.status.busy": "2023-05-18T10:30:56.326875Z",
     "iopub.status.idle": "2023-05-18T10:30:56.701743Z",
     "shell.execute_reply": "2023-05-18T10:30:56.700236Z"
    },
    "papermill": {
     "duration": 0.390876,
     "end_time": "2023-05-18T10:30:56.705086",
     "exception": false,
     "start_time": "2023-05-18T10:30:56.314210",
     "status": "completed"
    },
    "tags": []
   },
   "outputs": [],
   "source": [
    "def tokenize_names(features, labels=None):\n",
    "    \"\"\"Divite the names into tokens. TF-DF can consume text tokens natively.\"\"\"\n",
    "    features[\"Name\"] =  tf.strings.split(features[\"Name\"])\n",
    "    return features, labels\n",
    "\n",
    "train_ds = tfdf.keras.pd_dataframe_to_tf_dataset(preprocessed_train_df,label=\"Survived\").map(tokenize_names)\n",
    "serving_ds = tfdf.keras.pd_dataframe_to_tf_dataset(preprocessed_serving_df).map(tokenize_names)"
   ]
  },
  {
   "cell_type": "markdown",
   "id": "fa067c2b",
   "metadata": {
    "papermill": {
     "duration": 0.008633,
     "end_time": "2023-05-18T10:30:56.722976",
     "exception": false,
     "start_time": "2023-05-18T10:30:56.714343",
     "status": "completed"
    },
    "tags": []
   },
   "source": [
    "# Train model with default parameters\n",
    "\n",
    "### Train model\n",
    "\n",
    "First, we are training a GradientBoostedTreesModel model with the default parameters."
   ]
  },
  {
   "cell_type": "code",
   "execution_count": 23,
   "id": "28e1d87d",
   "metadata": {
    "execution": {
     "iopub.execute_input": "2023-05-18T10:30:56.743940Z",
     "iopub.status.busy": "2023-05-18T10:30:56.742522Z",
     "iopub.status.idle": "2023-05-18T10:31:09.175345Z",
     "shell.execute_reply": "2023-05-18T10:31:09.174038Z"
    },
    "papermill": {
     "duration": 12.446474,
     "end_time": "2023-05-18T10:31:09.178415",
     "exception": false,
     "start_time": "2023-05-18T10:30:56.731941",
     "status": "completed"
    },
    "tags": []
   },
   "outputs": [
    {
     "name": "stderr",
     "output_type": "stream",
     "text": [
      "[WARNING 24-05-22 11:50:34.4342 BST gradient_boosted_trees.cc:1840] \"goss_alpha\" set but \"sampling_method\" not equal to \"GOSS\".\n",
      "[WARNING 24-05-22 11:50:34.4343 BST gradient_boosted_trees.cc:1851] \"goss_beta\" set but \"sampling_method\" not equal to \"GOSS\".\n",
      "[WARNING 24-05-22 11:50:34.4343 BST gradient_boosted_trees.cc:1865] \"selective_gradient_boosting_ratio\" set but \"sampling_method\" not equal to \"SELGB\".\n"
     ]
    },
    {
     "name": "stdout",
     "output_type": "stream",
     "text": [
      "Accuracy: 0.804347813129425 Loss:0.8922085165977478\n"
     ]
    },
    {
     "name": "stderr",
     "output_type": "stream",
     "text": [
      "[INFO 24-05-22 11:50:34.6408 BST kernel.cc:1233] Loading model from path /var/folders/km/2_7xtqxn6x94c9qsgqjs2jc0_h98zq/T/tmpcj_x2r0x/model/ with prefix 981e27946847481f\n",
      "[INFO 24-05-22 11:50:34.6479 BST abstract_model.cc:1344] Engine \"GradientBoostedTreesQuickScorerExtended\" built\n",
      "[INFO 24-05-22 11:50:34.6479 BST kernel.cc:1061] Use fast generic engine\n"
     ]
    }
   ],
   "source": [
    "model = tfdf.keras.GradientBoostedTreesModel(\n",
    "    verbose=0, # Very few logs\n",
    "    features=[tfdf.keras.FeatureUsage(name=n) for n in input_features],\n",
    "    exclude_non_specified_features=True, # Only use the features in \"features\"\n",
    "    random_seed=1234,\n",
    ")\n",
    "model.fit(train_ds)\n",
    "\n",
    "self_evaluation = model.make_inspector().evaluation()\n",
    "print(f\"Accuracy: {self_evaluation.accuracy} Loss:{self_evaluation.loss}\")"
   ]
  },
  {
   "cell_type": "markdown",
   "id": "7b947981",
   "metadata": {
    "papermill": {
     "duration": 0.009801,
     "end_time": "2023-05-18T10:31:09.197829",
     "exception": false,
     "start_time": "2023-05-18T10:31:09.188028",
     "status": "completed"
    },
    "tags": []
   },
   "source": [
    "# Train model with improved default parameters\n",
    "\n",
    "Now you'll use some specific parameters when creating the GBT model"
   ]
  },
  {
   "cell_type": "code",
   "execution_count": 24,
   "id": "67b9c8ac",
   "metadata": {
    "execution": {
     "iopub.execute_input": "2023-05-18T10:31:09.219199Z",
     "iopub.status.busy": "2023-05-18T10:31:09.218753Z",
     "iopub.status.idle": "2023-05-18T10:31:10.588143Z",
     "shell.execute_reply": "2023-05-18T10:31:10.586774Z"
    },
    "papermill": {
     "duration": 1.383354,
     "end_time": "2023-05-18T10:31:10.591287",
     "exception": false,
     "start_time": "2023-05-18T10:31:09.207933",
     "status": "completed"
    },
    "tags": []
   },
   "outputs": [
    {
     "name": "stderr",
     "output_type": "stream",
     "text": [
      "[WARNING 24-05-22 11:50:34.7708 BST gradient_boosted_trees.cc:1840] \"goss_alpha\" set but \"sampling_method\" not equal to \"GOSS\".\n",
      "[WARNING 24-05-22 11:50:34.7708 BST gradient_boosted_trees.cc:1851] \"goss_beta\" set but \"sampling_method\" not equal to \"GOSS\".\n",
      "[WARNING 24-05-22 11:50:34.7708 BST gradient_boosted_trees.cc:1865] \"selective_gradient_boosting_ratio\" set but \"sampling_method\" not equal to \"SELGB\".\n"
     ]
    },
    {
     "name": "stdout",
     "output_type": "stream",
     "text": [
      "WARNING:tensorflow:5 out of the last 5 calls to <function InferenceCoreModel.make_predict_function.<locals>.predict_function_trained at 0x36042ede0> triggered tf.function retracing. Tracing is expensive and the excessive number of tracings could be due to (1) creating @tf.function repeatedly in a loop, (2) passing tensors with different shapes, (3) passing Python objects instead of tensors. For (1), please define your @tf.function outside of the loop. For (2), @tf.function has reduce_retracing=True option that can avoid unnecessary retracing. For (3), please refer to https://www.tensorflow.org/guide/function#controlling_retracing and https://www.tensorflow.org/api_docs/python/tf/function for  more details.\n",
      "Accuracy: 0.77173912525177 Loss:1.0136744976043701\n"
     ]
    },
    {
     "name": "stderr",
     "output_type": "stream",
     "text": [
      "[INFO 24-05-22 11:50:35.0582 BST kernel.cc:1233] Loading model from path /var/folders/km/2_7xtqxn6x94c9qsgqjs2jc0_h98zq/T/tmpl3rnlylc/model/ with prefix c9193daba3de41f1\n",
      "[INFO 24-05-22 11:50:35.0634 BST decision_forest.cc:734] Model loaded with 54 root(s), 2824 node(s), and 10 input feature(s).\n",
      "[INFO 24-05-22 11:50:35.0635 BST kernel.cc:1061] Use fast generic engine\n"
     ]
    }
   ],
   "source": [
    "model = tfdf.keras.GradientBoostedTreesModel(\n",
    "    verbose=0, # Very few logs\n",
    "    features=[tfdf.keras.FeatureUsage(name=n) for n in input_features],\n",
    "    exclude_non_specified_features=True, # Only use the features in \"features\"\n",
    "    \n",
    "    #num_trees=2000,\n",
    "    \n",
    "    # Only for GBT.\n",
    "    # A bit slower, but great to understand the model.\n",
    "    # compute_permutation_variable_importance=True,\n",
    "    \n",
    "    # Change the default hyper-parameters\n",
    "    # hyperparameter_template=\"benchmark_rank1@v1\",\n",
    "    \n",
    "    #num_trees=1000,\n",
    "    #tuner=tuner\n",
    "    \n",
    "    min_examples=1,\n",
    "    categorical_algorithm=\"RANDOM\",\n",
    "    #max_depth=4,\n",
    "    shrinkage=0.05,\n",
    "    #num_candidate_attributes_ratio=0.2,\n",
    "    split_axis=\"SPARSE_OBLIQUE\",\n",
    "    sparse_oblique_normalization=\"MIN_MAX\",\n",
    "    sparse_oblique_num_projections_exponent=2.0,\n",
    "    num_trees=2000,\n",
    "    #validation_ratio=0.0,\n",
    "    random_seed=1234,\n",
    "    \n",
    ")\n",
    "model.fit(train_ds)\n",
    "\n",
    "self_evaluation = model.make_inspector().evaluation()\n",
    "print(f\"Accuracy: {self_evaluation.accuracy} Loss:{self_evaluation.loss}\")"
   ]
  },
  {
   "cell_type": "markdown",
   "id": "24d004f8",
   "metadata": {
    "papermill": {
     "duration": 0.009209,
     "end_time": "2023-05-18T10:31:10.610105",
     "exception": false,
     "start_time": "2023-05-18T10:31:10.600896",
     "status": "completed"
    },
    "tags": []
   },
   "source": [
    "Let's look at the model and you can also notice the information about variable importance that the model figured out"
   ]
  },
  {
   "cell_type": "code",
   "execution_count": 25,
   "id": "f6418f1a",
   "metadata": {
    "execution": {
     "iopub.execute_input": "2023-05-18T10:31:10.632417Z",
     "iopub.status.busy": "2023-05-18T10:31:10.631850Z",
     "iopub.status.idle": "2023-05-18T10:31:10.649979Z",
     "shell.execute_reply": "2023-05-18T10:31:10.649004Z"
    },
    "papermill": {
     "duration": 0.038389,
     "end_time": "2023-05-18T10:31:10.658474",
     "exception": false,
     "start_time": "2023-05-18T10:31:10.620085",
     "status": "completed"
    },
    "tags": []
   },
   "outputs": [
    {
     "name": "stdout",
     "output_type": "stream",
     "text": [
      "Model: \"gradient_boosted_trees_model_3\"\n",
      "_________________________________________________________________\n",
      " Layer (type)                Output Shape              Param #   \n",
      "=================================================================\n",
      "=================================================================\n",
      "Total params: 1 (1.00 Byte)\n",
      "Trainable params: 0 (0.00 Byte)\n",
      "Non-trainable params: 1 (1.00 Byte)\n",
      "_________________________________________________________________\n",
      "Type: \"GRADIENT_BOOSTED_TREES\"\n",
      "Task: CLASSIFICATION\n",
      "Label: \"__LABEL\"\n",
      "\n",
      "Input Features (11):\n",
      "\tAge\n",
      "\tCabin\n",
      "\tEmbarked\n",
      "\tFare\n",
      "\tName\n",
      "\tParch\n",
      "\tPclass\n",
      "\tSex\n",
      "\tSibSp\n",
      "\tTicket_item\n",
      "\tTicket_number\n",
      "\n",
      "No weights\n",
      "\n",
      "Variable Importance: INV_MEAN_MIN_DEPTH:\n",
      "    1.           \"Sex\"  0.431313 ################\n",
      "    2.           \"Age\"  0.373986 ############\n",
      "    3.          \"Fare\"  0.250774 ####\n",
      "    4.          \"Name\"  0.225272 ###\n",
      "    5.   \"Ticket_item\"  0.182111 \n",
      "    6.      \"Embarked\"  0.181387 \n",
      "    7. \"Ticket_number\"  0.180897 \n",
      "    8.        \"Pclass\"  0.178279 \n",
      "    9.         \"Parch\"  0.175344 \n",
      "   10.         \"SibSp\"  0.172167 \n",
      "\n",
      "Variable Importance: NUM_AS_ROOT:\n",
      "    1.  \"Sex\" 39.000000 ################\n",
      "    2. \"Name\" 12.000000 ####\n",
      "    3.  \"Age\"  3.000000 \n",
      "\n",
      "Variable Importance: NUM_NODES:\n",
      "    1.           \"Age\" 677.000000 ################\n",
      "    2.          \"Fare\" 386.000000 #########\n",
      "    3.          \"Name\" 97.000000 ##\n",
      "    4.   \"Ticket_item\" 66.000000 #\n",
      "    5.           \"Sex\" 51.000000 #\n",
      "    6.         \"Parch\" 33.000000 \n",
      "    7. \"Ticket_number\" 27.000000 \n",
      "    8.      \"Embarked\" 26.000000 \n",
      "    9.        \"Pclass\" 14.000000 \n",
      "   10.         \"SibSp\"  8.000000 \n",
      "\n",
      "Variable Importance: SUM_SCORE:\n",
      "    1.           \"Age\" 438.353539 ################\n",
      "    2.           \"Sex\" 437.300923 ###############\n",
      "    3.          \"Fare\" 309.415046 ###########\n",
      "    4.          \"Name\" 172.193127 ######\n",
      "    5.        \"Pclass\" 46.099034 #\n",
      "    6.   \"Ticket_item\" 32.422949 #\n",
      "    7. \"Ticket_number\" 24.092083 \n",
      "    8.      \"Embarked\" 10.681472 \n",
      "    9.         \"Parch\"  9.278762 \n",
      "   10.         \"SibSp\"  2.142252 \n",
      "\n",
      "\n",
      "\n",
      "Loss: BINOMIAL_LOG_LIKELIHOOD\n",
      "Validation loss value: 1.01367\n",
      "Number of trees per iteration: 1\n",
      "Node format: NOT_SET\n",
      "Number of trees: 54\n",
      "Total number of nodes: 2824\n",
      "\n",
      "Number of nodes by tree:\n",
      "Count: 54 Average: 52.2963 StdDev: 5.8393\n",
      "Min: 37 Max: 61 Ignored: 0\n",
      "----------------------------------------------\n",
      "[ 37, 38)  1   1.85%   1.85% #\n",
      "[ 38, 39)  0   0.00%   1.85%\n",
      "[ 39, 40)  1   1.85%   3.70% #\n",
      "[ 40, 42)  2   3.70%   7.41% ##\n",
      "[ 42, 43)  0   0.00%   7.41%\n",
      "[ 43, 44)  2   3.70%  11.11% ##\n",
      "[ 44, 45)  0   0.00%  11.11%\n",
      "[ 45, 47)  3   5.56%  16.67% ###\n",
      "[ 47, 48)  1   1.85%  18.52% #\n",
      "[ 48, 49)  0   0.00%  18.52%\n",
      "[ 49, 50)  6  11.11%  29.63% ######\n",
      "[ 50, 52)  6  11.11%  40.74% ######\n",
      "[ 52, 53)  0   0.00%  40.74%\n",
      "[ 53, 54) 10  18.52%  59.26% ##########\n",
      "[ 54, 55)  0   0.00%  59.26%\n",
      "[ 55, 57)  7  12.96%  72.22% #######\n",
      "[ 57, 58)  5   9.26%  81.48% #####\n",
      "[ 58, 59)  0   0.00%  81.48%\n",
      "[ 59, 60)  6  11.11%  92.59% ######\n",
      "[ 60, 61]  4   7.41% 100.00% ####\n",
      "\n",
      "Depth by leafs:\n",
      "Count: 1439 Average: 4.84434 StdDev: 0.463491\n",
      "Min: 2 Max: 5 Ignored: 0\n",
      "----------------------------------------------\n",
      "[ 2, 3)    5   0.35%   0.35%\n",
      "[ 3, 4)   45   3.13%   3.47%\n",
      "[ 4, 5)  119   8.27%  11.74% #\n",
      "[ 5, 5] 1270  88.26% 100.00% ##########\n",
      "\n",
      "Number of training obs by leaf:\n",
      "Count: 1439 Average: 29.9833 StdDev: 74.0766\n",
      "Min: 1 Max: 474 Ignored: 0\n",
      "----------------------------------------------\n",
      "[   1,  24) 1144  79.50%  79.50% ##########\n",
      "[  24,  48)   92   6.39%  85.89% #\n",
      "[  48,  72)   59   4.10%  89.99% #\n",
      "[  72,  95)   16   1.11%  91.10%\n",
      "[  95, 119)   20   1.39%  92.49%\n",
      "[ 119, 143)   12   0.83%  93.33%\n",
      "[ 143, 166)   29   2.02%  95.34%\n",
      "[ 166, 190)   11   0.76%  96.11%\n",
      "[ 190, 214)    4   0.28%  96.39%\n",
      "[ 214, 238)    2   0.14%  96.53%\n",
      "[ 238, 261)    4   0.28%  96.80%\n",
      "[ 261, 285)    3   0.21%  97.01%\n",
      "[ 285, 309)    3   0.21%  97.22%\n",
      "[ 309, 332)    1   0.07%  97.29%\n",
      "[ 332, 356)    4   0.28%  97.57%\n",
      "[ 356, 380)   10   0.69%  98.26%\n",
      "[ 380, 403)    7   0.49%  98.75%\n",
      "[ 403, 427)   13   0.90%  99.65%\n",
      "[ 427, 451)    1   0.07%  99.72%\n",
      "[ 451, 474]    4   0.28% 100.00%\n",
      "\n",
      "Attribute in nodes:\n",
      "\t677 : Age [NUMERICAL]\n",
      "\t386 : Fare [NUMERICAL]\n",
      "\t97 : Name [CATEGORICAL_SET]\n",
      "\t66 : Ticket_item [CATEGORICAL]\n",
      "\t51 : Sex [CATEGORICAL]\n",
      "\t33 : Parch [NUMERICAL]\n",
      "\t27 : Ticket_number [CATEGORICAL]\n",
      "\t26 : Embarked [CATEGORICAL]\n",
      "\t14 : Pclass [NUMERICAL]\n",
      "\t8 : SibSp [NUMERICAL]\n",
      "\n",
      "Attribute in nodes with depth <= 0:\n",
      "\t39 : Sex [CATEGORICAL]\n",
      "\t12 : Name [CATEGORICAL_SET]\n",
      "\t3 : Age [NUMERICAL]\n",
      "\n",
      "Attribute in nodes with depth <= 1:\n",
      "\t65 : Age [NUMERICAL]\n",
      "\t39 : Sex [CATEGORICAL]\n",
      "\t26 : Fare [NUMERICAL]\n",
      "\t17 : Name [CATEGORICAL_SET]\n",
      "\t6 : Pclass [NUMERICAL]\n",
      "\t4 : Ticket_number [CATEGORICAL]\n",
      "\t3 : Embarked [CATEGORICAL]\n",
      "\t1 : Ticket_item [CATEGORICAL]\n",
      "\t1 : Parch [NUMERICAL]\n",
      "\n",
      "Attribute in nodes with depth <= 2:\n",
      "\t171 : Age [NUMERICAL]\n",
      "\t81 : Fare [NUMERICAL]\n",
      "\t40 : Sex [CATEGORICAL]\n",
      "\t34 : Name [CATEGORICAL_SET]\n",
      "\t13 : Embarked [CATEGORICAL]\n",
      "\t12 : Ticket_item [CATEGORICAL]\n",
      "\t11 : Ticket_number [CATEGORICAL]\n",
      "\t7 : Pclass [NUMERICAL]\n",
      "\t3 : Parch [NUMERICAL]\n",
      "\t1 : SibSp [NUMERICAL]\n",
      "\n",
      "Attribute in nodes with depth <= 3:\n",
      "\t349 : Age [NUMERICAL]\n",
      "\t199 : Fare [NUMERICAL]\n",
      "\t58 : Name [CATEGORICAL_SET]\n",
      "\t41 : Sex [CATEGORICAL]\n",
      "\t37 : Ticket_item [CATEGORICAL]\n",
      "\t24 : Ticket_number [CATEGORICAL]\n",
      "\t19 : Embarked [CATEGORICAL]\n",
      "\t13 : Parch [NUMERICAL]\n",
      "\t7 : Pclass [NUMERICAL]\n",
      "\t3 : SibSp [NUMERICAL]\n",
      "\n",
      "Attribute in nodes with depth <= 5:\n",
      "\t677 : Age [NUMERICAL]\n",
      "\t386 : Fare [NUMERICAL]\n",
      "\t97 : Name [CATEGORICAL_SET]\n",
      "\t66 : Ticket_item [CATEGORICAL]\n",
      "\t51 : Sex [CATEGORICAL]\n",
      "\t33 : Parch [NUMERICAL]\n",
      "\t27 : Ticket_number [CATEGORICAL]\n",
      "\t26 : Embarked [CATEGORICAL]\n",
      "\t14 : Pclass [NUMERICAL]\n",
      "\t8 : SibSp [NUMERICAL]\n",
      "\n",
      "Condition type in nodes:\n",
      "\t1118 : ObliqueCondition\n",
      "\t199 : ContainsBitmapCondition\n",
      "\t68 : ContainsCondition\n",
      "Condition type in nodes with depth <= 0:\n",
      "\t51 : ContainsBitmapCondition\n",
      "\t3 : ObliqueCondition\n",
      "Condition type in nodes with depth <= 1:\n",
      "\t98 : ObliqueCondition\n",
      "\t61 : ContainsBitmapCondition\n",
      "\t3 : ContainsCondition\n",
      "Condition type in nodes with depth <= 2:\n",
      "\t263 : ObliqueCondition\n",
      "\t94 : ContainsBitmapCondition\n",
      "\t16 : ContainsCondition\n",
      "Condition type in nodes with depth <= 3:\n",
      "\t571 : ObliqueCondition\n",
      "\t145 : ContainsBitmapCondition\n",
      "\t34 : ContainsCondition\n",
      "Condition type in nodes with depth <= 5:\n",
      "\t1118 : ObliqueCondition\n",
      "\t199 : ContainsBitmapCondition\n",
      "\t68 : ContainsCondition\n",
      "\n",
      "Training logs:\n",
      "Number of iteration to final model: 54\n",
      "\tIter:1 train-loss:1.267642 valid-loss:1.363407  train-accuracy:0.624531 valid-accuracy:0.543478\n",
      "\tIter:2 train-loss:1.216613 valid-loss:1.329323  train-accuracy:0.624531 valid-accuracy:0.543478\n",
      "\tIter:3 train-loss:1.169435 valid-loss:1.301666  train-accuracy:0.624531 valid-accuracy:0.543478\n",
      "\tIter:4 train-loss:1.121583 valid-loss:1.264140  train-accuracy:0.624531 valid-accuracy:0.543478\n",
      "\tIter:5 train-loss:1.079456 valid-loss:1.237068  train-accuracy:0.794743 valid-accuracy:0.717391\n",
      "\tIter:6 train-loss:1.043708 valid-loss:1.215828  train-accuracy:0.824781 valid-accuracy:0.717391\n",
      "\tIter:16 train-loss:0.791781 valid-loss:1.102193  train-accuracy:0.902378 valid-accuracy:0.739130\n",
      "\tIter:26 train-loss:0.651576 valid-loss:1.061744  train-accuracy:0.921151 valid-accuracy:0.771739\n",
      "\tIter:36 train-loss:0.564274 valid-loss:1.043167  train-accuracy:0.924906 valid-accuracy:0.760870\n",
      "\tIter:46 train-loss:0.494652 valid-loss:1.023862  train-accuracy:0.936170 valid-accuracy:0.760870\n",
      "\tIter:56 train-loss:0.442437 valid-loss:1.016976  train-accuracy:0.943680 valid-accuracy:0.771739\n",
      "\tIter:66 train-loss:0.405156 valid-loss:1.022475  train-accuracy:0.949937 valid-accuracy:0.782609\n",
      "\tIter:76 train-loss:0.374286 valid-loss:1.032654  train-accuracy:0.952441 valid-accuracy:0.771739\n",
      "\n"
     ]
    }
   ],
   "source": [
    "model.summary()"
   ]
  },
  {
   "cell_type": "markdown",
   "id": "93e15fa9",
   "metadata": {
    "papermill": {
     "duration": 0.010729,
     "end_time": "2023-05-18T10:31:10.681492",
     "exception": false,
     "start_time": "2023-05-18T10:31:10.670763",
     "status": "completed"
    },
    "tags": []
   },
   "source": [
    "# Make predictions"
   ]
  },
  {
   "cell_type": "code",
   "execution_count": 26,
   "id": "3239df35",
   "metadata": {
    "execution": {
     "iopub.execute_input": "2023-05-18T10:31:10.706310Z",
     "iopub.status.busy": "2023-05-18T10:31:10.705862Z",
     "iopub.status.idle": "2023-05-18T10:31:12.005605Z",
     "shell.execute_reply": "2023-05-18T10:31:12.004033Z"
    },
    "papermill": {
     "duration": 1.316069,
     "end_time": "2023-05-18T10:31:12.008967",
     "exception": false,
     "start_time": "2023-05-18T10:31:10.692898",
     "status": "completed"
    },
    "tags": []
   },
   "outputs": [
    {
     "name": "stdout",
     "output_type": "stream",
     "text": [
      "WARNING:tensorflow:6 out of the last 6 calls to <function InferenceCoreModel.make_predict_function.<locals>.predict_function_trained at 0x36042d260> triggered tf.function retracing. Tracing is expensive and the excessive number of tracings could be due to (1) creating @tf.function repeatedly in a loop, (2) passing tensors with different shapes, (3) passing Python objects instead of tensors. For (1), please define your @tf.function outside of the loop. For (2), @tf.function has reduce_retracing=True option that can avoid unnecessary retracing. For (3), please refer to https://www.tensorflow.org/guide/function#controlling_retracing and https://www.tensorflow.org/api_docs/python/tf/function for  more details.\n",
      "Submission exported to ./submissions/tf/submission.csv\n",
      "PassengerId,Survived\n",
      "892,0\n",
      "893,0\n",
      "894,0\n",
      "895,0\n",
      "896,0\n",
      "897,0\n",
      "898,0\n",
      "899,0\n",
      "900,1\n"
     ]
    }
   ],
   "source": [
    "def prediction_to_kaggle_format(model, threshold=0.5):\n",
    "    proba_survive = model.predict(serving_ds, verbose=0)[:,0]\n",
    "    return pd.DataFrame({\n",
    "        \"PassengerId\": serving_df[\"PassengerId\"],\n",
    "        \"Survived\": (proba_survive >= threshold).astype(int)\n",
    "    })\n",
    "\n",
    "def make_submission(kaggle_predictions):\n",
    "    path=\"./submissions/tf/submission.csv\"\n",
    "    kaggle_predictions.to_csv(path, index=False)\n",
    "    print(f\"Submission exported to {path}\")\n",
    "    \n",
    "kaggle_predictions = prediction_to_kaggle_format(model)\n",
    "make_submission(kaggle_predictions)\n",
    "!head ./submissions/tf/submission.csv"
   ]
  },
  {
   "cell_type": "markdown",
   "id": "d9081865",
   "metadata": {
    "papermill": {
     "duration": 0.011739,
     "end_time": "2023-05-18T10:31:12.032772",
     "exception": false,
     "start_time": "2023-05-18T10:31:12.021033",
     "status": "completed"
    },
    "tags": []
   },
   "source": [
    "# Training a model with hyperparameter tunning\n",
    "\n",
    "Hyper-parameter tuning is enabled by specifying the tuner constructor argument of the model. The tuner object contains all the configuration of the tuner (search space, optimizer, trial and objective).\n"
   ]
  },
  {
   "cell_type": "code",
   "execution_count": 27,
   "id": "693406c4",
   "metadata": {
    "execution": {
     "iopub.execute_input": "2023-05-18T10:31:12.057095Z",
     "iopub.status.busy": "2023-05-18T10:31:12.056551Z",
     "iopub.status.idle": "2023-05-18T10:33:21.245537Z",
     "shell.execute_reply": "2023-05-18T10:33:21.243670Z"
    },
    "papermill": {
     "duration": 129.205111,
     "end_time": "2023-05-18T10:33:21.248657",
     "exception": false,
     "start_time": "2023-05-18T10:31:12.043546",
     "status": "completed"
    },
    "tags": []
   },
   "outputs": [
    {
     "name": "stdout",
     "output_type": "stream",
     "text": [
      "Use /var/folders/km/2_7xtqxn6x94c9qsgqjs2jc0_h98zq/T/tmpix1b919x as temporary training directory\n",
      "WARNING:tensorflow:5 out of the last 5 calls to <function CoreModel._consumes_training_examples_until_eof at 0x35644a520> triggered tf.function retracing. Tracing is expensive and the excessive number of tracings could be due to (1) creating @tf.function repeatedly in a loop, (2) passing tensors with different shapes, (3) passing Python objects instead of tensors. For (1), please define your @tf.function outside of the loop. For (2), @tf.function has reduce_retracing=True option that can avoid unnecessary retracing. For (3), please refer to https://www.tensorflow.org/guide/function#controlling_retracing and https://www.tensorflow.org/api_docs/python/tf/function for  more details.\n"
     ]
    },
    {
     "name": "stderr",
     "output_type": "stream",
     "text": [
      "[WARNING 24-05-22 11:50:35.4031 BST gradient_boosted_trees.cc:1840] \"goss_alpha\" set but \"sampling_method\" not equal to \"GOSS\".\n",
      "[WARNING 24-05-22 11:50:35.4031 BST gradient_boosted_trees.cc:1851] \"goss_beta\" set but \"sampling_method\" not equal to \"GOSS\".\n",
      "[WARNING 24-05-22 11:50:35.4031 BST gradient_boosted_trees.cc:1865] \"selective_gradient_boosting_ratio\" set but \"sampling_method\" not equal to \"SELGB\".\n",
      "WARNING:tensorflow:5 out of the last 5 calls to <function CoreModel._consumes_training_examples_until_eof at 0x35644a520> triggered tf.function retracing. Tracing is expensive and the excessive number of tracings could be due to (1) creating @tf.function repeatedly in a loop, (2) passing tensors with different shapes, (3) passing Python objects instead of tensors. For (1), please define your @tf.function outside of the loop. For (2), @tf.function has reduce_retracing=True option that can avoid unnecessary retracing. For (3), please refer to https://www.tensorflow.org/guide/function#controlling_retracing and https://www.tensorflow.org/api_docs/python/tf/function for  more details.\n"
     ]
    },
    {
     "name": "stdout",
     "output_type": "stream",
     "text": [
      "WARNING:tensorflow:5 out of the last 9 calls to <function InferenceCoreModel.yggdrasil_model_path_tensor at 0x36042e200> triggered tf.function retracing. Tracing is expensive and the excessive number of tracings could be due to (1) creating @tf.function repeatedly in a loop, (2) passing tensors with different shapes, (3) passing Python objects instead of tensors. For (1), please define your @tf.function outside of the loop. For (2), @tf.function has reduce_retracing=True option that can avoid unnecessary retracing. For (3), please refer to https://www.tensorflow.org/guide/function#controlling_retracing and https://www.tensorflow.org/api_docs/python/tf/function for  more details.\n"
     ]
    },
    {
     "name": "stderr",
     "output_type": "stream",
     "text": [
      "[INFO 24-05-22 11:52:41.5152 BST kernel.cc:1233] Loading model from path /var/folders/km/2_7xtqxn6x94c9qsgqjs2jc0_h98zq/T/tmpix1b919x/model/ with prefix 382c98e737b14fbf\n",
      "[INFO 24-05-22 11:52:41.5336 BST decision_forest.cc:734] Model loaded with 26 root(s), 3162 node(s), and 12 input feature(s).\n",
      "[INFO 24-05-22 11:52:41.5336 BST abstract_model.cc:1344] Engine \"GradientBoostedTreesGeneric\" built\n",
      "[INFO 24-05-22 11:52:41.5336 BST kernel.cc:1061] Use fast generic engine\n",
      "WARNING:tensorflow:5 out of the last 9 calls to <function InferenceCoreModel.yggdrasil_model_path_tensor at 0x36042e200> triggered tf.function retracing. Tracing is expensive and the excessive number of tracings could be due to (1) creating @tf.function repeatedly in a loop, (2) passing tensors with different shapes, (3) passing Python objects instead of tensors. For (1), please define your @tf.function outside of the loop. For (2), @tf.function has reduce_retracing=True option that can avoid unnecessary retracing. For (3), please refer to https://www.tensorflow.org/guide/function#controlling_retracing and https://www.tensorflow.org/api_docs/python/tf/function for  more details.\n"
     ]
    },
    {
     "name": "stdout",
     "output_type": "stream",
     "text": [
      "Accuracy: 0.8904109597206116 Loss:0.6763895750045776\n"
     ]
    }
   ],
   "source": [
    "tuner = tfdf.tuner.RandomSearch(num_trials=1000)\n",
    "tuner.choice(\"min_examples\", [2, 5, 7, 10])\n",
    "tuner.choice(\"categorical_algorithm\", [\"CART\", \"RANDOM\"])\n",
    "\n",
    "local_search_space = tuner.choice(\"growing_strategy\", [\"LOCAL\"])\n",
    "local_search_space.choice(\"max_depth\", [3, 4, 5, 6, 8])\n",
    "\n",
    "global_search_space = tuner.choice(\"growing_strategy\", [\"BEST_FIRST_GLOBAL\"], merge=True)\n",
    "global_search_space.choice(\"max_num_nodes\", [16, 32, 64, 128, 256])\n",
    "\n",
    "#tuner.choice(\"use_hessian_gain\", [True, False])\n",
    "tuner.choice(\"shrinkage\", [0.02, 0.05, 0.10, 0.15])\n",
    "tuner.choice(\"num_candidate_attributes_ratio\", [0.2, 0.5, 0.9, 1.0])\n",
    "\n",
    "\n",
    "tuner.choice(\"split_axis\", [\"AXIS_ALIGNED\"])\n",
    "oblique_space = tuner.choice(\"split_axis\", [\"SPARSE_OBLIQUE\"], merge=True)\n",
    "oblique_space.choice(\"sparse_oblique_normalization\",\n",
    "                     [\"NONE\", \"STANDARD_DEVIATION\", \"MIN_MAX\"])\n",
    "oblique_space.choice(\"sparse_oblique_weights\", [\"BINARY\", \"CONTINUOUS\"])\n",
    "oblique_space.choice(\"sparse_oblique_num_projections_exponent\", [1.0, 1.5])\n",
    "\n",
    "# Tune the model. Notice the `tuner=tuner`.\n",
    "tuned_model = tfdf.keras.GradientBoostedTreesModel(tuner=tuner)\n",
    "tuned_model.fit(train_ds, verbose=0)\n",
    "\n",
    "tuned_self_evaluation = tuned_model.make_inspector().evaluation()\n",
    "print(f\"Accuracy: {tuned_self_evaluation.accuracy} Loss:{tuned_self_evaluation.loss}\")"
   ]
  },
  {
   "cell_type": "markdown",
   "id": "90906558",
   "metadata": {
    "papermill": {
     "duration": 0.011276,
     "end_time": "2023-05-18T10:33:21.271148",
     "exception": false,
     "start_time": "2023-05-18T10:33:21.259872",
     "status": "completed"
    },
    "tags": []
   },
   "source": [
    "In the last line in the cell above, you can see the accuracy is higher than previously with default parameters and parameters set by hand.\n",
    "\n",
    "This is the main idea behing hyperparameter tuning.\n",
    "\n",
    "For more information you can follow this tutorial: [Automated hyper-parameter tuning](https://www.tensorflow.org/decision_forests/tutorials/automatic_tuning_colab)"
   ]
  },
  {
   "cell_type": "markdown",
   "id": "8507d9c3",
   "metadata": {
    "papermill": {
     "duration": 0.010908,
     "end_time": "2023-05-18T10:33:21.293210",
     "exception": false,
     "start_time": "2023-05-18T10:33:21.282302",
     "status": "completed"
    },
    "tags": []
   },
   "source": [
    "# Making an ensemble\n",
    "\n",
    "Here you'll create 100 models with different seeds and combine their results\n",
    "\n",
    "This approach removes a little bit the random aspects related to creating ML models\n",
    "\n",
    "In the GBT creation is used the `honest` parameter. It will use different training examples to infer the structure and the leaf values. This regularization technique trades examples for bias estimates."
   ]
  },
  {
   "cell_type": "code",
   "execution_count": 28,
   "id": "96eafd73",
   "metadata": {
    "execution": {
     "iopub.execute_input": "2023-05-18T10:33:21.317693Z",
     "iopub.status.busy": "2023-05-18T10:33:21.317026Z",
     "iopub.status.idle": "2023-05-18T10:35:53.444299Z",
     "shell.execute_reply": "2023-05-18T10:35:53.443138Z"
    },
    "papermill": {
     "duration": 152.142847,
     "end_time": "2023-05-18T10:35:53.447145",
     "exception": false,
     "start_time": "2023-05-18T10:33:21.304298",
     "status": "completed"
    },
    "tags": []
   },
   "outputs": [
    {
     "name": "stderr",
     "output_type": "stream",
     "text": [
      "[WARNING 24-05-22 11:52:41.6547 BST gradient_boosted_trees.cc:1840] \"goss_alpha\" set but \"sampling_method\" not equal to \"GOSS\".\n",
      "[WARNING 24-05-22 11:52:41.6548 BST gradient_boosted_trees.cc:1851] \"goss_beta\" set but \"sampling_method\" not equal to \"GOSS\".\n",
      "[WARNING 24-05-22 11:52:41.6548 BST gradient_boosted_trees.cc:1865] \"selective_gradient_boosting_ratio\" set but \"sampling_method\" not equal to \"SELGB\".\n"
     ]
    },
    {
     "name": "stdout",
     "output_type": "stream",
     "text": [
      "i:0\n",
      "WARNING:tensorflow:6 out of the last 6 calls to <function CoreModel._consumes_training_examples_until_eof at 0x35644a520> triggered tf.function retracing. Tracing is expensive and the excessive number of tracings could be due to (1) creating @tf.function repeatedly in a loop, (2) passing tensors with different shapes, (3) passing Python objects instead of tensors. For (1), please define your @tf.function outside of the loop. For (2), @tf.function has reduce_retracing=True option that can avoid unnecessary retracing. For (3), please refer to https://www.tensorflow.org/guide/function#controlling_retracing and https://www.tensorflow.org/api_docs/python/tf/function for  more details.\n"
     ]
    },
    {
     "name": "stderr",
     "output_type": "stream",
     "text": [
      "WARNING:tensorflow:6 out of the last 6 calls to <function CoreModel._consumes_training_examples_until_eof at 0x35644a520> triggered tf.function retracing. Tracing is expensive and the excessive number of tracings could be due to (1) creating @tf.function repeatedly in a loop, (2) passing tensors with different shapes, (3) passing Python objects instead of tensors. For (1), please define your @tf.function outside of the loop. For (2), @tf.function has reduce_retracing=True option that can avoid unnecessary retracing. For (3), please refer to https://www.tensorflow.org/guide/function#controlling_retracing and https://www.tensorflow.org/api_docs/python/tf/function for  more details.\n",
      "[INFO 24-05-22 11:52:41.8537 BST kernel.cc:1233] Loading model from path /var/folders/km/2_7xtqxn6x94c9qsgqjs2jc0_h98zq/T/tmpgtc0azjl/model/ with prefix 387644d017e84947\n",
      "[INFO 24-05-22 11:52:41.8620 BST kernel.cc:1061] Use fast generic engine\n"
     ]
    },
    {
     "name": "stdout",
     "output_type": "stream",
     "text": [
      "WARNING:tensorflow:6 out of the last 11 calls to <function InferenceCoreModel.yggdrasil_model_path_tensor at 0x360266ca0> triggered tf.function retracing. Tracing is expensive and the excessive number of tracings could be due to (1) creating @tf.function repeatedly in a loop, (2) passing tensors with different shapes, (3) passing Python objects instead of tensors. For (1), please define your @tf.function outside of the loop. For (2), @tf.function has reduce_retracing=True option that can avoid unnecessary retracing. For (3), please refer to https://www.tensorflow.org/guide/function#controlling_retracing and https://www.tensorflow.org/api_docs/python/tf/function for  more details.\n"
     ]
    },
    {
     "name": "stderr",
     "output_type": "stream",
     "text": [
      "WARNING:tensorflow:6 out of the last 11 calls to <function InferenceCoreModel.yggdrasil_model_path_tensor at 0x360266ca0> triggered tf.function retracing. Tracing is expensive and the excessive number of tracings could be due to (1) creating @tf.function repeatedly in a loop, (2) passing tensors with different shapes, (3) passing Python objects instead of tensors. For (1), please define your @tf.function outside of the loop. For (2), @tf.function has reduce_retracing=True option that can avoid unnecessary retracing. For (3), please refer to https://www.tensorflow.org/guide/function#controlling_retracing and https://www.tensorflow.org/api_docs/python/tf/function for  more details.\n",
      "[WARNING 24-05-22 11:52:42.0132 BST gradient_boosted_trees.cc:1840] \"goss_alpha\" set but \"sampling_method\" not equal to \"GOSS\".\n",
      "[WARNING 24-05-22 11:52:42.0132 BST gradient_boosted_trees.cc:1851] \"goss_beta\" set but \"sampling_method\" not equal to \"GOSS\".\n",
      "[WARNING 24-05-22 11:52:42.0133 BST gradient_boosted_trees.cc:1865] \"selective_gradient_boosting_ratio\" set but \"sampling_method\" not equal to \"SELGB\".\n"
     ]
    },
    {
     "name": "stdout",
     "output_type": "stream",
     "text": [
      "i:1\n"
     ]
    },
    {
     "name": "stderr",
     "output_type": "stream",
     "text": [
      "[INFO 24-05-22 11:52:42.2347 BST kernel.cc:1233] Loading model from path /var/folders/km/2_7xtqxn6x94c9qsgqjs2jc0_h98zq/T/tmpzawtauxi/model/ with prefix 875f58c5f60c4830\n",
      "[INFO 24-05-22 11:52:42.2451 BST kernel.cc:1061] Use fast generic engine\n",
      "[WARNING 24-05-22 11:52:42.3912 BST gradient_boosted_trees.cc:1840] \"goss_alpha\" set but \"sampling_method\" not equal to \"GOSS\".\n",
      "[WARNING 24-05-22 11:52:42.3912 BST gradient_boosted_trees.cc:1851] \"goss_beta\" set but \"sampling_method\" not equal to \"GOSS\".\n",
      "[WARNING 24-05-22 11:52:42.3913 BST gradient_boosted_trees.cc:1865] \"selective_gradient_boosting_ratio\" set but \"sampling_method\" not equal to \"SELGB\".\n"
     ]
    },
    {
     "name": "stdout",
     "output_type": "stream",
     "text": [
      "i:2\n"
     ]
    },
    {
     "name": "stderr",
     "output_type": "stream",
     "text": [
      "[INFO 24-05-22 11:52:42.6156 BST kernel.cc:1233] Loading model from path /var/folders/km/2_7xtqxn6x94c9qsgqjs2jc0_h98zq/T/tmp9p084te5/model/ with prefix a33b5adc565542ec\n",
      "[INFO 24-05-22 11:52:42.6265 BST kernel.cc:1061] Use fast generic engine\n",
      "[WARNING 24-05-22 11:52:42.7728 BST gradient_boosted_trees.cc:1840] \"goss_alpha\" set but \"sampling_method\" not equal to \"GOSS\".\n",
      "[WARNING 24-05-22 11:52:42.7728 BST gradient_boosted_trees.cc:1851] \"goss_beta\" set but \"sampling_method\" not equal to \"GOSS\".\n",
      "[WARNING 24-05-22 11:52:42.7728 BST gradient_boosted_trees.cc:1865] \"selective_gradient_boosting_ratio\" set but \"sampling_method\" not equal to \"SELGB\".\n"
     ]
    },
    {
     "name": "stdout",
     "output_type": "stream",
     "text": [
      "i:3\n"
     ]
    },
    {
     "name": "stderr",
     "output_type": "stream",
     "text": [
      "[INFO 24-05-22 11:52:43.0037 BST kernel.cc:1233] Loading model from path /var/folders/km/2_7xtqxn6x94c9qsgqjs2jc0_h98zq/T/tmp3oe9phh1/model/ with prefix b1fd734e381d4101\n",
      "[INFO 24-05-22 11:52:43.0113 BST kernel.cc:1061] Use fast generic engine\n",
      "[WARNING 24-05-22 11:52:43.1676 BST gradient_boosted_trees.cc:1840] \"goss_alpha\" set but \"sampling_method\" not equal to \"GOSS\".\n",
      "[WARNING 24-05-22 11:52:43.1677 BST gradient_boosted_trees.cc:1851] \"goss_beta\" set but \"sampling_method\" not equal to \"GOSS\".\n",
      "[WARNING 24-05-22 11:52:43.1677 BST gradient_boosted_trees.cc:1865] \"selective_gradient_boosting_ratio\" set but \"sampling_method\" not equal to \"SELGB\".\n"
     ]
    },
    {
     "name": "stdout",
     "output_type": "stream",
     "text": [
      "i:4\n"
     ]
    },
    {
     "name": "stderr",
     "output_type": "stream",
     "text": [
      "[INFO 24-05-22 11:52:43.3405 BST kernel.cc:1233] Loading model from path /var/folders/km/2_7xtqxn6x94c9qsgqjs2jc0_h98zq/T/tmp78u3h6_t/model/ with prefix 75869b7d2a794e74\n",
      "[INFO 24-05-22 11:52:43.3449 BST kernel.cc:1061] Use fast generic engine\n",
      "[WARNING 24-05-22 11:52:43.4993 BST gradient_boosted_trees.cc:1840] \"goss_alpha\" set but \"sampling_method\" not equal to \"GOSS\".\n",
      "[WARNING 24-05-22 11:52:43.4993 BST gradient_boosted_trees.cc:1851] \"goss_beta\" set but \"sampling_method\" not equal to \"GOSS\".\n",
      "[WARNING 24-05-22 11:52:43.4993 BST gradient_boosted_trees.cc:1865] \"selective_gradient_boosting_ratio\" set but \"sampling_method\" not equal to \"SELGB\".\n"
     ]
    },
    {
     "name": "stdout",
     "output_type": "stream",
     "text": [
      "i:5\n"
     ]
    },
    {
     "name": "stderr",
     "output_type": "stream",
     "text": [
      "[INFO 24-05-22 11:52:43.6879 BST kernel.cc:1233] Loading model from path /var/folders/km/2_7xtqxn6x94c9qsgqjs2jc0_h98zq/T/tmph5jf6hx9/model/ with prefix d3f37a72074947ca\n",
      "[INFO 24-05-22 11:52:43.7003 BST kernel.cc:1061] Use fast generic engine\n",
      "[WARNING 24-05-22 11:52:43.8478 BST gradient_boosted_trees.cc:1840] \"goss_alpha\" set but \"sampling_method\" not equal to \"GOSS\".\n",
      "[WARNING 24-05-22 11:52:43.8478 BST gradient_boosted_trees.cc:1851] \"goss_beta\" set but \"sampling_method\" not equal to \"GOSS\".\n",
      "[WARNING 24-05-22 11:52:43.8478 BST gradient_boosted_trees.cc:1865] \"selective_gradient_boosting_ratio\" set but \"sampling_method\" not equal to \"SELGB\".\n"
     ]
    },
    {
     "name": "stdout",
     "output_type": "stream",
     "text": [
      "i:6\n"
     ]
    },
    {
     "name": "stderr",
     "output_type": "stream",
     "text": [
      "[INFO 24-05-22 11:52:44.0509 BST kernel.cc:1233] Loading model from path /var/folders/km/2_7xtqxn6x94c9qsgqjs2jc0_h98zq/T/tmpminx41qy/model/ with prefix d6697e63accb4c3d\n",
      "[INFO 24-05-22 11:52:44.0606 BST kernel.cc:1061] Use fast generic engine\n",
      "[WARNING 24-05-22 11:52:44.2156 BST gradient_boosted_trees.cc:1840] \"goss_alpha\" set but \"sampling_method\" not equal to \"GOSS\".\n",
      "[WARNING 24-05-22 11:52:44.2156 BST gradient_boosted_trees.cc:1851] \"goss_beta\" set but \"sampling_method\" not equal to \"GOSS\".\n",
      "[WARNING 24-05-22 11:52:44.2156 BST gradient_boosted_trees.cc:1865] \"selective_gradient_boosting_ratio\" set but \"sampling_method\" not equal to \"SELGB\".\n"
     ]
    },
    {
     "name": "stdout",
     "output_type": "stream",
     "text": [
      "i:7\n"
     ]
    },
    {
     "name": "stderr",
     "output_type": "stream",
     "text": [
      "[INFO 24-05-22 11:52:44.4153 BST kernel.cc:1233] Loading model from path /var/folders/km/2_7xtqxn6x94c9qsgqjs2jc0_h98zq/T/tmpfbxas6ln/model/ with prefix f24a3c73c1934112\n",
      "[INFO 24-05-22 11:52:44.4262 BST kernel.cc:1061] Use fast generic engine\n"
     ]
    },
    {
     "name": "stdout",
     "output_type": "stream",
     "text": [
      "i:8\n"
     ]
    },
    {
     "name": "stderr",
     "output_type": "stream",
     "text": [
      "[WARNING 24-05-22 11:52:44.6232 BST gradient_boosted_trees.cc:1840] \"goss_alpha\" set but \"sampling_method\" not equal to \"GOSS\".\n",
      "[WARNING 24-05-22 11:52:44.6232 BST gradient_boosted_trees.cc:1851] \"goss_beta\" set but \"sampling_method\" not equal to \"GOSS\".\n",
      "[WARNING 24-05-22 11:52:44.6232 BST gradient_boosted_trees.cc:1865] \"selective_gradient_boosting_ratio\" set but \"sampling_method\" not equal to \"SELGB\".\n",
      "[INFO 24-05-22 11:52:44.8484 BST kernel.cc:1233] Loading model from path /var/folders/km/2_7xtqxn6x94c9qsgqjs2jc0_h98zq/T/tmpcpo8oyzi/model/ with prefix 42949a8bae46419e\n",
      "[INFO 24-05-22 11:52:44.8603 BST kernel.cc:1061] Use fast generic engine\n",
      "[WARNING 24-05-22 11:52:45.0126 BST gradient_boosted_trees.cc:1840] \"goss_alpha\" set but \"sampling_method\" not equal to \"GOSS\".\n",
      "[WARNING 24-05-22 11:52:45.0126 BST gradient_boosted_trees.cc:1851] \"goss_beta\" set but \"sampling_method\" not equal to \"GOSS\".\n",
      "[WARNING 24-05-22 11:52:45.0126 BST gradient_boosted_trees.cc:1865] \"selective_gradient_boosting_ratio\" set but \"sampling_method\" not equal to \"SELGB\".\n"
     ]
    },
    {
     "name": "stdout",
     "output_type": "stream",
     "text": [
      "i:9\n"
     ]
    },
    {
     "name": "stderr",
     "output_type": "stream",
     "text": [
      "[INFO 24-05-22 11:52:45.2783 BST kernel.cc:1233] Loading model from path /var/folders/km/2_7xtqxn6x94c9qsgqjs2jc0_h98zq/T/tmp3mh1vnbm/model/ with prefix e32f4c5c7d4c4abc\n",
      "[INFO 24-05-22 11:52:45.2848 BST kernel.cc:1061] Use fast generic engine\n",
      "[WARNING 24-05-22 11:52:45.4369 BST gradient_boosted_trees.cc:1840] \"goss_alpha\" set but \"sampling_method\" not equal to \"GOSS\".\n",
      "[WARNING 24-05-22 11:52:45.4369 BST gradient_boosted_trees.cc:1851] \"goss_beta\" set but \"sampling_method\" not equal to \"GOSS\".\n",
      "[WARNING 24-05-22 11:52:45.4369 BST gradient_boosted_trees.cc:1865] \"selective_gradient_boosting_ratio\" set but \"sampling_method\" not equal to \"SELGB\".\n"
     ]
    },
    {
     "name": "stdout",
     "output_type": "stream",
     "text": [
      "i:10\n"
     ]
    },
    {
     "name": "stderr",
     "output_type": "stream",
     "text": [
      "[INFO 24-05-22 11:52:45.6344 BST kernel.cc:1233] Loading model from path /var/folders/km/2_7xtqxn6x94c9qsgqjs2jc0_h98zq/T/tmppapqc6jt/model/ with prefix 1d0696f7c8c24fdd\n",
      "[INFO 24-05-22 11:52:45.6480 BST kernel.cc:1061] Use fast generic engine\n",
      "[WARNING 24-05-22 11:52:45.7949 BST gradient_boosted_trees.cc:1840] \"goss_alpha\" set but \"sampling_method\" not equal to \"GOSS\".\n",
      "[WARNING 24-05-22 11:52:45.7949 BST gradient_boosted_trees.cc:1851] \"goss_beta\" set but \"sampling_method\" not equal to \"GOSS\".\n",
      "[WARNING 24-05-22 11:52:45.7949 BST gradient_boosted_trees.cc:1865] \"selective_gradient_boosting_ratio\" set but \"sampling_method\" not equal to \"SELGB\".\n"
     ]
    },
    {
     "name": "stdout",
     "output_type": "stream",
     "text": [
      "i:11\n"
     ]
    },
    {
     "name": "stderr",
     "output_type": "stream",
     "text": [
      "[INFO 24-05-22 11:52:46.0520 BST kernel.cc:1233] Loading model from path /var/folders/km/2_7xtqxn6x94c9qsgqjs2jc0_h98zq/T/tmpwm16oezf/model/ with prefix 9afcf812d46640c2\n",
      "[INFO 24-05-22 11:52:46.0637 BST kernel.cc:1061] Use fast generic engine\n",
      "[WARNING 24-05-22 11:52:46.2108 BST gradient_boosted_trees.cc:1840] \"goss_alpha\" set but \"sampling_method\" not equal to \"GOSS\".\n",
      "[WARNING 24-05-22 11:52:46.2108 BST gradient_boosted_trees.cc:1851] \"goss_beta\" set but \"sampling_method\" not equal to \"GOSS\".\n",
      "[WARNING 24-05-22 11:52:46.2108 BST gradient_boosted_trees.cc:1865] \"selective_gradient_boosting_ratio\" set but \"sampling_method\" not equal to \"SELGB\".\n"
     ]
    },
    {
     "name": "stdout",
     "output_type": "stream",
     "text": [
      "i:12\n"
     ]
    },
    {
     "name": "stderr",
     "output_type": "stream",
     "text": [
      "[INFO 24-05-22 11:52:46.4354 BST kernel.cc:1233] Loading model from path /var/folders/km/2_7xtqxn6x94c9qsgqjs2jc0_h98zq/T/tmpizv1a677/model/ with prefix bacf124abc05480f\n",
      "[INFO 24-05-22 11:52:46.4457 BST kernel.cc:1061] Use fast generic engine\n",
      "[WARNING 24-05-22 11:52:46.5913 BST gradient_boosted_trees.cc:1840] \"goss_alpha\" set but \"sampling_method\" not equal to \"GOSS\".\n",
      "[WARNING 24-05-22 11:52:46.5913 BST gradient_boosted_trees.cc:1851] \"goss_beta\" set but \"sampling_method\" not equal to \"GOSS\".\n",
      "[WARNING 24-05-22 11:52:46.5913 BST gradient_boosted_trees.cc:1865] \"selective_gradient_boosting_ratio\" set but \"sampling_method\" not equal to \"SELGB\".\n"
     ]
    },
    {
     "name": "stdout",
     "output_type": "stream",
     "text": [
      "i:13\n"
     ]
    },
    {
     "name": "stderr",
     "output_type": "stream",
     "text": [
      "[INFO 24-05-22 11:52:46.9741 BST kernel.cc:1233] Loading model from path /var/folders/km/2_7xtqxn6x94c9qsgqjs2jc0_h98zq/T/tmpv3s1ogxj/model/ with prefix 57ad87a4dac14ab8\n",
      "[INFO 24-05-22 11:52:46.9983 BST kernel.cc:1061] Use fast generic engine\n",
      "[WARNING 24-05-22 11:52:47.1659 BST gradient_boosted_trees.cc:1840] \"goss_alpha\" set but \"sampling_method\" not equal to \"GOSS\".\n",
      "[WARNING 24-05-22 11:52:47.1659 BST gradient_boosted_trees.cc:1851] \"goss_beta\" set but \"sampling_method\" not equal to \"GOSS\".\n",
      "[WARNING 24-05-22 11:52:47.1659 BST gradient_boosted_trees.cc:1865] \"selective_gradient_boosting_ratio\" set but \"sampling_method\" not equal to \"SELGB\".\n"
     ]
    },
    {
     "name": "stdout",
     "output_type": "stream",
     "text": [
      "i:14\n"
     ]
    },
    {
     "name": "stderr",
     "output_type": "stream",
     "text": [
      "[INFO 24-05-22 11:52:47.3782 BST kernel.cc:1233] Loading model from path /var/folders/km/2_7xtqxn6x94c9qsgqjs2jc0_h98zq/T/tmp1py9u2vq/model/ with prefix 6c3eca6b36c54571\n",
      "[INFO 24-05-22 11:52:47.3836 BST kernel.cc:1061] Use fast generic engine\n",
      "[WARNING 24-05-22 11:52:47.5294 BST gradient_boosted_trees.cc:1840] \"goss_alpha\" set but \"sampling_method\" not equal to \"GOSS\".\n",
      "[WARNING 24-05-22 11:52:47.5295 BST gradient_boosted_trees.cc:1851] \"goss_beta\" set but \"sampling_method\" not equal to \"GOSS\".\n",
      "[WARNING 24-05-22 11:52:47.5295 BST gradient_boosted_trees.cc:1865] \"selective_gradient_boosting_ratio\" set but \"sampling_method\" not equal to \"SELGB\".\n"
     ]
    },
    {
     "name": "stdout",
     "output_type": "stream",
     "text": [
      "i:15\n"
     ]
    },
    {
     "name": "stderr",
     "output_type": "stream",
     "text": [
      "[INFO 24-05-22 11:52:47.7023 BST kernel.cc:1233] Loading model from path /var/folders/km/2_7xtqxn6x94c9qsgqjs2jc0_h98zq/T/tmprfsmcqoy/model/ with prefix ac16a456e0a84869\n",
      "[INFO 24-05-22 11:52:47.7164 BST kernel.cc:1061] Use fast generic engine\n",
      "[WARNING 24-05-22 11:52:47.8632 BST gradient_boosted_trees.cc:1840] \"goss_alpha\" set but \"sampling_method\" not equal to \"GOSS\".\n",
      "[WARNING 24-05-22 11:52:47.8633 BST gradient_boosted_trees.cc:1851] \"goss_beta\" set but \"sampling_method\" not equal to \"GOSS\".\n",
      "[WARNING 24-05-22 11:52:47.8633 BST gradient_boosted_trees.cc:1865] \"selective_gradient_boosting_ratio\" set but \"sampling_method\" not equal to \"SELGB\".\n"
     ]
    },
    {
     "name": "stdout",
     "output_type": "stream",
     "text": [
      "i:16\n"
     ]
    },
    {
     "name": "stderr",
     "output_type": "stream",
     "text": [
      "[INFO 24-05-22 11:52:48.0957 BST kernel.cc:1233] Loading model from path /var/folders/km/2_7xtqxn6x94c9qsgqjs2jc0_h98zq/T/tmp82g4298x/model/ with prefix b145ee5518ca4b9b\n",
      "[INFO 24-05-22 11:52:48.1056 BST kernel.cc:1061] Use fast generic engine\n",
      "[WARNING 24-05-22 11:52:48.2636 BST gradient_boosted_trees.cc:1840] \"goss_alpha\" set but \"sampling_method\" not equal to \"GOSS\".\n",
      "[WARNING 24-05-22 11:52:48.2636 BST gradient_boosted_trees.cc:1851] \"goss_beta\" set but \"sampling_method\" not equal to \"GOSS\".\n",
      "[WARNING 24-05-22 11:52:48.2636 BST gradient_boosted_trees.cc:1865] \"selective_gradient_boosting_ratio\" set but \"sampling_method\" not equal to \"SELGB\".\n"
     ]
    },
    {
     "name": "stdout",
     "output_type": "stream",
     "text": [
      "i:17\n"
     ]
    },
    {
     "name": "stderr",
     "output_type": "stream",
     "text": [
      "[INFO 24-05-22 11:52:48.4505 BST kernel.cc:1233] Loading model from path /var/folders/km/2_7xtqxn6x94c9qsgqjs2jc0_h98zq/T/tmp3qx06gmo/model/ with prefix 8b0d4dfc59014e03\n",
      "[INFO 24-05-22 11:52:48.4622 BST kernel.cc:1061] Use fast generic engine\n",
      "[WARNING 24-05-22 11:52:48.6194 BST gradient_boosted_trees.cc:1840] \"goss_alpha\" set but \"sampling_method\" not equal to \"GOSS\".\n",
      "[WARNING 24-05-22 11:52:48.6194 BST gradient_boosted_trees.cc:1851] \"goss_beta\" set but \"sampling_method\" not equal to \"GOSS\".\n",
      "[WARNING 24-05-22 11:52:48.6194 BST gradient_boosted_trees.cc:1865] \"selective_gradient_boosting_ratio\" set but \"sampling_method\" not equal to \"SELGB\".\n"
     ]
    },
    {
     "name": "stdout",
     "output_type": "stream",
     "text": [
      "i:18\n"
     ]
    },
    {
     "name": "stderr",
     "output_type": "stream",
     "text": [
      "[INFO 24-05-22 11:52:48.8570 BST kernel.cc:1233] Loading model from path /var/folders/km/2_7xtqxn6x94c9qsgqjs2jc0_h98zq/T/tmpdcw1_smz/model/ with prefix 9d799005875047af\n",
      "[INFO 24-05-22 11:52:48.8696 BST kernel.cc:1061] Use fast generic engine\n",
      "[WARNING 24-05-22 11:52:49.0173 BST gradient_boosted_trees.cc:1840] \"goss_alpha\" set but \"sampling_method\" not equal to \"GOSS\".\n",
      "[WARNING 24-05-22 11:52:49.0174 BST gradient_boosted_trees.cc:1851] \"goss_beta\" set but \"sampling_method\" not equal to \"GOSS\".\n",
      "[WARNING 24-05-22 11:52:49.0174 BST gradient_boosted_trees.cc:1865] \"selective_gradient_boosting_ratio\" set but \"sampling_method\" not equal to \"SELGB\".\n"
     ]
    },
    {
     "name": "stdout",
     "output_type": "stream",
     "text": [
      "i:19\n"
     ]
    },
    {
     "name": "stderr",
     "output_type": "stream",
     "text": [
      "[INFO 24-05-22 11:52:49.2723 BST kernel.cc:1233] Loading model from path /var/folders/km/2_7xtqxn6x94c9qsgqjs2jc0_h98zq/T/tmpa9lgo8ou/model/ with prefix 8f5dde4adc534d00\n",
      "[INFO 24-05-22 11:52:49.2781 BST kernel.cc:1061] Use fast generic engine\n"
     ]
    },
    {
     "name": "stdout",
     "output_type": "stream",
     "text": [
      "i:20\n"
     ]
    },
    {
     "name": "stderr",
     "output_type": "stream",
     "text": [
      "[WARNING 24-05-22 11:52:49.6208 BST gradient_boosted_trees.cc:1840] \"goss_alpha\" set but \"sampling_method\" not equal to \"GOSS\".\n",
      "[WARNING 24-05-22 11:52:49.6209 BST gradient_boosted_trees.cc:1851] \"goss_beta\" set but \"sampling_method\" not equal to \"GOSS\".\n",
      "[WARNING 24-05-22 11:52:49.6209 BST gradient_boosted_trees.cc:1865] \"selective_gradient_boosting_ratio\" set but \"sampling_method\" not equal to \"SELGB\".\n",
      "[INFO 24-05-22 11:52:49.8135 BST kernel.cc:1233] Loading model from path /var/folders/km/2_7xtqxn6x94c9qsgqjs2jc0_h98zq/T/tmpnt6kiijf/model/ with prefix 91e6038f1ddb424f\n",
      "[INFO 24-05-22 11:52:49.8261 BST kernel.cc:1061] Use fast generic engine\n",
      "[WARNING 24-05-22 11:52:49.9778 BST gradient_boosted_trees.cc:1840] \"goss_alpha\" set but \"sampling_method\" not equal to \"GOSS\".\n",
      "[WARNING 24-05-22 11:52:49.9778 BST gradient_boosted_trees.cc:1851] \"goss_beta\" set but \"sampling_method\" not equal to \"GOSS\".\n",
      "[WARNING 24-05-22 11:52:49.9778 BST gradient_boosted_trees.cc:1865] \"selective_gradient_boosting_ratio\" set but \"sampling_method\" not equal to \"SELGB\".\n"
     ]
    },
    {
     "name": "stdout",
     "output_type": "stream",
     "text": [
      "i:21\n"
     ]
    },
    {
     "name": "stderr",
     "output_type": "stream",
     "text": [
      "[INFO 24-05-22 11:52:50.1824 BST kernel.cc:1233] Loading model from path /var/folders/km/2_7xtqxn6x94c9qsgqjs2jc0_h98zq/T/tmpr4t57mpo/model/ with prefix bf63e8d4865041ab\n",
      "[INFO 24-05-22 11:52:50.1914 BST kernel.cc:1061] Use fast generic engine\n",
      "[WARNING 24-05-22 11:52:50.3431 BST gradient_boosted_trees.cc:1840] \"goss_alpha\" set but \"sampling_method\" not equal to \"GOSS\".\n",
      "[WARNING 24-05-22 11:52:50.3431 BST gradient_boosted_trees.cc:1851] \"goss_beta\" set but \"sampling_method\" not equal to \"GOSS\".\n",
      "[WARNING 24-05-22 11:52:50.3431 BST gradient_boosted_trees.cc:1865] \"selective_gradient_boosting_ratio\" set but \"sampling_method\" not equal to \"SELGB\".\n"
     ]
    },
    {
     "name": "stdout",
     "output_type": "stream",
     "text": [
      "i:22\n"
     ]
    },
    {
     "name": "stderr",
     "output_type": "stream",
     "text": [
      "[INFO 24-05-22 11:52:50.5645 BST kernel.cc:1233] Loading model from path /var/folders/km/2_7xtqxn6x94c9qsgqjs2jc0_h98zq/T/tmppi66dg5t/model/ with prefix bb473845db8b46e8\n",
      "[INFO 24-05-22 11:52:50.5797 BST kernel.cc:1061] Use fast generic engine\n",
      "[WARNING 24-05-22 11:52:50.7310 BST gradient_boosted_trees.cc:1840] \"goss_alpha\" set but \"sampling_method\" not equal to \"GOSS\".\n",
      "[WARNING 24-05-22 11:52:50.7310 BST gradient_boosted_trees.cc:1851] \"goss_beta\" set but \"sampling_method\" not equal to \"GOSS\".\n",
      "[WARNING 24-05-22 11:52:50.7310 BST gradient_boosted_trees.cc:1865] \"selective_gradient_boosting_ratio\" set but \"sampling_method\" not equal to \"SELGB\".\n"
     ]
    },
    {
     "name": "stdout",
     "output_type": "stream",
     "text": [
      "i:23\n"
     ]
    },
    {
     "name": "stderr",
     "output_type": "stream",
     "text": [
      "[INFO 24-05-22 11:52:50.9271 BST kernel.cc:1233] Loading model from path /var/folders/km/2_7xtqxn6x94c9qsgqjs2jc0_h98zq/T/tmpoyf8d637/model/ with prefix 96ef50bd7a8d447e\n",
      "[INFO 24-05-22 11:52:50.9391 BST kernel.cc:1061] Use fast generic engine\n",
      "[WARNING 24-05-22 11:52:51.0899 BST gradient_boosted_trees.cc:1840] \"goss_alpha\" set but \"sampling_method\" not equal to \"GOSS\".\n",
      "[WARNING 24-05-22 11:52:51.0899 BST gradient_boosted_trees.cc:1851] \"goss_beta\" set but \"sampling_method\" not equal to \"GOSS\".\n",
      "[WARNING 24-05-22 11:52:51.0900 BST gradient_boosted_trees.cc:1865] \"selective_gradient_boosting_ratio\" set but \"sampling_method\" not equal to \"SELGB\".\n"
     ]
    },
    {
     "name": "stdout",
     "output_type": "stream",
     "text": [
      "i:24\n"
     ]
    },
    {
     "name": "stderr",
     "output_type": "stream",
     "text": [
      "[INFO 24-05-22 11:52:51.2766 BST kernel.cc:1233] Loading model from path /var/folders/km/2_7xtqxn6x94c9qsgqjs2jc0_h98zq/T/tmpjqgyeeol/model/ with prefix 2cec0e4bc3e74fa1\n",
      "[INFO 24-05-22 11:52:51.2809 BST kernel.cc:1061] Use fast generic engine\n",
      "[WARNING 24-05-22 11:52:51.4354 BST gradient_boosted_trees.cc:1840] \"goss_alpha\" set but \"sampling_method\" not equal to \"GOSS\".\n",
      "[WARNING 24-05-22 11:52:51.4354 BST gradient_boosted_trees.cc:1851] \"goss_beta\" set but \"sampling_method\" not equal to \"GOSS\".\n",
      "[WARNING 24-05-22 11:52:51.4355 BST gradient_boosted_trees.cc:1865] \"selective_gradient_boosting_ratio\" set but \"sampling_method\" not equal to \"SELGB\".\n"
     ]
    },
    {
     "name": "stdout",
     "output_type": "stream",
     "text": [
      "i:25\n"
     ]
    },
    {
     "name": "stderr",
     "output_type": "stream",
     "text": [
      "[INFO 24-05-22 11:52:51.6427 BST kernel.cc:1233] Loading model from path /var/folders/km/2_7xtqxn6x94c9qsgqjs2jc0_h98zq/T/tmpysr2airf/model/ with prefix f20385c8bae3463e\n",
      "[INFO 24-05-22 11:52:51.6572 BST abstract_model.cc:1344] Engine \"GradientBoostedTreesQuickScorerExtended\" built\n",
      "[INFO 24-05-22 11:52:51.6572 BST kernel.cc:1061] Use fast generic engine\n",
      "[WARNING 24-05-22 11:52:51.8066 BST gradient_boosted_trees.cc:1840] \"goss_alpha\" set but \"sampling_method\" not equal to \"GOSS\".\n",
      "[WARNING 24-05-22 11:52:51.8066 BST gradient_boosted_trees.cc:1851] \"goss_beta\" set but \"sampling_method\" not equal to \"GOSS\".\n",
      "[WARNING 24-05-22 11:52:51.8066 BST gradient_boosted_trees.cc:1865] \"selective_gradient_boosting_ratio\" set but \"sampling_method\" not equal to \"SELGB\".\n"
     ]
    },
    {
     "name": "stdout",
     "output_type": "stream",
     "text": [
      "i:26\n"
     ]
    },
    {
     "name": "stderr",
     "output_type": "stream",
     "text": [
      "[INFO 24-05-22 11:52:51.9990 BST kernel.cc:1233] Loading model from path /var/folders/km/2_7xtqxn6x94c9qsgqjs2jc0_h98zq/T/tmpvk_bu76x/model/ with prefix c6395528014d4d41\n",
      "[INFO 24-05-22 11:52:52.0133 BST kernel.cc:1061] Use fast generic engine\n",
      "[WARNING 24-05-22 11:52:52.1626 BST gradient_boosted_trees.cc:1840] \"goss_alpha\" set but \"sampling_method\" not equal to \"GOSS\".\n",
      "[WARNING 24-05-22 11:52:52.1626 BST gradient_boosted_trees.cc:1851] \"goss_beta\" set but \"sampling_method\" not equal to \"GOSS\".\n",
      "[WARNING 24-05-22 11:52:52.1626 BST gradient_boosted_trees.cc:1865] \"selective_gradient_boosting_ratio\" set but \"sampling_method\" not equal to \"SELGB\".\n"
     ]
    },
    {
     "name": "stdout",
     "output_type": "stream",
     "text": [
      "i:27\n"
     ]
    },
    {
     "name": "stderr",
     "output_type": "stream",
     "text": [
      "[INFO 24-05-22 11:52:52.4142 BST kernel.cc:1233] Loading model from path /var/folders/km/2_7xtqxn6x94c9qsgqjs2jc0_h98zq/T/tmp_a0w1euo/model/ with prefix 91cc83443a7d4883\n",
      "[INFO 24-05-22 11:52:52.4249 BST kernel.cc:1061] Use fast generic engine\n",
      "[WARNING 24-05-22 11:52:52.5732 BST gradient_boosted_trees.cc:1840] \"goss_alpha\" set but \"sampling_method\" not equal to \"GOSS\".\n",
      "[WARNING 24-05-22 11:52:52.5732 BST gradient_boosted_trees.cc:1851] \"goss_beta\" set but \"sampling_method\" not equal to \"GOSS\".\n",
      "[WARNING 24-05-22 11:52:52.5732 BST gradient_boosted_trees.cc:1865] \"selective_gradient_boosting_ratio\" set but \"sampling_method\" not equal to \"SELGB\".\n"
     ]
    },
    {
     "name": "stdout",
     "output_type": "stream",
     "text": [
      "i:28\n"
     ]
    },
    {
     "name": "stderr",
     "output_type": "stream",
     "text": [
      "[INFO 24-05-22 11:52:52.7536 BST kernel.cc:1233] Loading model from path /var/folders/km/2_7xtqxn6x94c9qsgqjs2jc0_h98zq/T/tmphn6rsof_/model/ with prefix cf5d9dbf518842be\n",
      "[INFO 24-05-22 11:52:52.7635 BST kernel.cc:1061] Use fast generic engine\n",
      "[WARNING 24-05-22 11:52:52.9114 BST gradient_boosted_trees.cc:1840] \"goss_alpha\" set but \"sampling_method\" not equal to \"GOSS\".\n",
      "[WARNING 24-05-22 11:52:52.9114 BST gradient_boosted_trees.cc:1851] \"goss_beta\" set but \"sampling_method\" not equal to \"GOSS\".\n",
      "[WARNING 24-05-22 11:52:52.9114 BST gradient_boosted_trees.cc:1865] \"selective_gradient_boosting_ratio\" set but \"sampling_method\" not equal to \"SELGB\".\n"
     ]
    },
    {
     "name": "stdout",
     "output_type": "stream",
     "text": [
      "i:29\n"
     ]
    },
    {
     "name": "stderr",
     "output_type": "stream",
     "text": [
      "[INFO 24-05-22 11:52:53.1038 BST kernel.cc:1233] Loading model from path /var/folders/km/2_7xtqxn6x94c9qsgqjs2jc0_h98zq/T/tmpqtftq3sv/model/ with prefix 6a52e8e460694c49\n",
      "[INFO 24-05-22 11:52:53.1139 BST kernel.cc:1061] Use fast generic engine\n",
      "[WARNING 24-05-22 11:52:53.2722 BST gradient_boosted_trees.cc:1840] \"goss_alpha\" set but \"sampling_method\" not equal to \"GOSS\".\n",
      "[WARNING 24-05-22 11:52:53.2723 BST gradient_boosted_trees.cc:1851] \"goss_beta\" set but \"sampling_method\" not equal to \"GOSS\".\n",
      "[WARNING 24-05-22 11:52:53.2723 BST gradient_boosted_trees.cc:1865] \"selective_gradient_boosting_ratio\" set but \"sampling_method\" not equal to \"SELGB\".\n"
     ]
    },
    {
     "name": "stdout",
     "output_type": "stream",
     "text": [
      "i:30\n"
     ]
    },
    {
     "name": "stderr",
     "output_type": "stream",
     "text": [
      "[INFO 24-05-22 11:52:53.4980 BST kernel.cc:1233] Loading model from path /var/folders/km/2_7xtqxn6x94c9qsgqjs2jc0_h98zq/T/tmpfjhq6zt7/model/ with prefix 780e107e7f8b4e13\n",
      "[INFO 24-05-22 11:52:53.5036 BST kernel.cc:1061] Use fast generic engine\n",
      "[WARNING 24-05-22 11:52:53.6517 BST gradient_boosted_trees.cc:1840] \"goss_alpha\" set but \"sampling_method\" not equal to \"GOSS\".\n",
      "[WARNING 24-05-22 11:52:53.6518 BST gradient_boosted_trees.cc:1851] \"goss_beta\" set but \"sampling_method\" not equal to \"GOSS\".\n",
      "[WARNING 24-05-22 11:52:53.6518 BST gradient_boosted_trees.cc:1865] \"selective_gradient_boosting_ratio\" set but \"sampling_method\" not equal to \"SELGB\".\n"
     ]
    },
    {
     "name": "stdout",
     "output_type": "stream",
     "text": [
      "i:31\n"
     ]
    },
    {
     "name": "stderr",
     "output_type": "stream",
     "text": [
      "[INFO 24-05-22 11:52:53.9192 BST kernel.cc:1233] Loading model from path /var/folders/km/2_7xtqxn6x94c9qsgqjs2jc0_h98zq/T/tmpqcnw2bcg/model/ with prefix afc18215e49a4bf8\n",
      "[INFO 24-05-22 11:52:53.9312 BST kernel.cc:1061] Use fast generic engine\n",
      "[WARNING 24-05-22 11:52:54.0774 BST gradient_boosted_trees.cc:1840] \"goss_alpha\" set but \"sampling_method\" not equal to \"GOSS\".\n",
      "[WARNING 24-05-22 11:52:54.0774 BST gradient_boosted_trees.cc:1851] \"goss_beta\" set but \"sampling_method\" not equal to \"GOSS\".\n",
      "[WARNING 24-05-22 11:52:54.0774 BST gradient_boosted_trees.cc:1865] \"selective_gradient_boosting_ratio\" set but \"sampling_method\" not equal to \"SELGB\".\n"
     ]
    },
    {
     "name": "stdout",
     "output_type": "stream",
     "text": [
      "i:32\n"
     ]
    },
    {
     "name": "stderr",
     "output_type": "stream",
     "text": [
      "[INFO 24-05-22 11:52:54.2745 BST kernel.cc:1233] Loading model from path /var/folders/km/2_7xtqxn6x94c9qsgqjs2jc0_h98zq/T/tmpw5xlyndw/model/ with prefix ebb30e7a3a314874\n",
      "[INFO 24-05-22 11:52:54.2848 BST kernel.cc:1061] Use fast generic engine\n",
      "[WARNING 24-05-22 11:52:54.4418 BST gradient_boosted_trees.cc:1840] \"goss_alpha\" set but \"sampling_method\" not equal to \"GOSS\".\n",
      "[WARNING 24-05-22 11:52:54.4418 BST gradient_boosted_trees.cc:1851] \"goss_beta\" set but \"sampling_method\" not equal to \"GOSS\".\n",
      "[WARNING 24-05-22 11:52:54.4418 BST gradient_boosted_trees.cc:1865] \"selective_gradient_boosting_ratio\" set but \"sampling_method\" not equal to \"SELGB\".\n"
     ]
    },
    {
     "name": "stdout",
     "output_type": "stream",
     "text": [
      "i:33\n"
     ]
    },
    {
     "name": "stderr",
     "output_type": "stream",
     "text": [
      "[INFO 24-05-22 11:52:54.6589 BST kernel.cc:1233] Loading model from path /var/folders/km/2_7xtqxn6x94c9qsgqjs2jc0_h98zq/T/tmpojj0p6v_/model/ with prefix 321cc51e8540499d\n",
      "[INFO 24-05-22 11:52:54.6688 BST kernel.cc:1061] Use fast generic engine\n",
      "[WARNING 24-05-22 11:52:54.8149 BST gradient_boosted_trees.cc:1840] \"goss_alpha\" set but \"sampling_method\" not equal to \"GOSS\".\n",
      "[WARNING 24-05-22 11:52:54.8149 BST gradient_boosted_trees.cc:1851] \"goss_beta\" set but \"sampling_method\" not equal to \"GOSS\".\n",
      "[WARNING 24-05-22 11:52:54.8149 BST gradient_boosted_trees.cc:1865] \"selective_gradient_boosting_ratio\" set but \"sampling_method\" not equal to \"SELGB\".\n"
     ]
    },
    {
     "name": "stdout",
     "output_type": "stream",
     "text": [
      "i:34\n"
     ]
    },
    {
     "name": "stderr",
     "output_type": "stream",
     "text": [
      "[INFO 24-05-22 11:52:55.0050 BST kernel.cc:1233] Loading model from path /var/folders/km/2_7xtqxn6x94c9qsgqjs2jc0_h98zq/T/tmpf0tfshs_/model/ with prefix 52b7c68c35d84c69\n",
      "[INFO 24-05-22 11:52:55.0148 BST kernel.cc:1061] Use fast generic engine\n",
      "[WARNING 24-05-22 11:52:55.1613 BST gradient_boosted_trees.cc:1840] \"goss_alpha\" set but \"sampling_method\" not equal to \"GOSS\".\n",
      "[WARNING 24-05-22 11:52:55.1614 BST gradient_boosted_trees.cc:1851] \"goss_beta\" set but \"sampling_method\" not equal to \"GOSS\".\n",
      "[WARNING 24-05-22 11:52:55.1614 BST gradient_boosted_trees.cc:1865] \"selective_gradient_boosting_ratio\" set but \"sampling_method\" not equal to \"SELGB\".\n"
     ]
    },
    {
     "name": "stdout",
     "output_type": "stream",
     "text": [
      "i:35\n"
     ]
    },
    {
     "name": "stderr",
     "output_type": "stream",
     "text": [
      "[INFO 24-05-22 11:52:55.3727 BST kernel.cc:1233] Loading model from path /var/folders/km/2_7xtqxn6x94c9qsgqjs2jc0_h98zq/T/tmpta8ixwsu/model/ with prefix e19a8e85660b4610\n",
      "[INFO 24-05-22 11:52:55.3781 BST kernel.cc:1061] Use fast generic engine\n",
      "[WARNING 24-05-22 11:52:55.5345 BST gradient_boosted_trees.cc:1840] \"goss_alpha\" set but \"sampling_method\" not equal to \"GOSS\".\n",
      "[WARNING 24-05-22 11:52:55.5345 BST gradient_boosted_trees.cc:1851] \"goss_beta\" set but \"sampling_method\" not equal to \"GOSS\".\n",
      "[WARNING 24-05-22 11:52:55.5345 BST gradient_boosted_trees.cc:1865] \"selective_gradient_boosting_ratio\" set but \"sampling_method\" not equal to \"SELGB\".\n"
     ]
    },
    {
     "name": "stdout",
     "output_type": "stream",
     "text": [
      "i:36\n"
     ]
    },
    {
     "name": "stderr",
     "output_type": "stream",
     "text": [
      "[INFO 24-05-22 11:52:55.7156 BST kernel.cc:1233] Loading model from path /var/folders/km/2_7xtqxn6x94c9qsgqjs2jc0_h98zq/T/tmpzcdfl7f8/model/ with prefix e96d6ee5a52c4ec4\n",
      "[INFO 24-05-22 11:52:55.7244 BST kernel.cc:1061] Use fast generic engine\n",
      "[WARNING 24-05-22 11:52:55.8738 BST gradient_boosted_trees.cc:1840] \"goss_alpha\" set but \"sampling_method\" not equal to \"GOSS\".\n",
      "[WARNING 24-05-22 11:52:55.8738 BST gradient_boosted_trees.cc:1851] \"goss_beta\" set but \"sampling_method\" not equal to \"GOSS\".\n",
      "[WARNING 24-05-22 11:52:55.8738 BST gradient_boosted_trees.cc:1865] \"selective_gradient_boosting_ratio\" set but \"sampling_method\" not equal to \"SELGB\".\n"
     ]
    },
    {
     "name": "stdout",
     "output_type": "stream",
     "text": [
      "i:37\n"
     ]
    },
    {
     "name": "stderr",
     "output_type": "stream",
     "text": [
      "[INFO 24-05-22 11:52:56.0718 BST kernel.cc:1233] Loading model from path /var/folders/km/2_7xtqxn6x94c9qsgqjs2jc0_h98zq/T/tmpuklr2ay0/model/ with prefix 83a4f8282fba4bfc\n",
      "[INFO 24-05-22 11:52:56.0825 BST kernel.cc:1061] Use fast generic engine\n",
      "[WARNING 24-05-22 11:52:56.2309 BST gradient_boosted_trees.cc:1840] \"goss_alpha\" set but \"sampling_method\" not equal to \"GOSS\".\n",
      "[WARNING 24-05-22 11:52:56.2310 BST gradient_boosted_trees.cc:1851] \"goss_beta\" set but \"sampling_method\" not equal to \"GOSS\".\n",
      "[WARNING 24-05-22 11:52:56.2310 BST gradient_boosted_trees.cc:1865] \"selective_gradient_boosting_ratio\" set but \"sampling_method\" not equal to \"SELGB\".\n"
     ]
    },
    {
     "name": "stdout",
     "output_type": "stream",
     "text": [
      "i:38\n"
     ]
    },
    {
     "name": "stderr",
     "output_type": "stream",
     "text": [
      "[INFO 24-05-22 11:52:56.4490 BST kernel.cc:1233] Loading model from path /var/folders/km/2_7xtqxn6x94c9qsgqjs2jc0_h98zq/T/tmp8icz2wmw/model/ with prefix 56288f6576d7436c\n",
      "[INFO 24-05-22 11:52:56.4621 BST kernel.cc:1061] Use fast generic engine\n",
      "[WARNING 24-05-22 11:52:56.6083 BST gradient_boosted_trees.cc:1840] \"goss_alpha\" set but \"sampling_method\" not equal to \"GOSS\".\n",
      "[WARNING 24-05-22 11:52:56.6083 BST gradient_boosted_trees.cc:1851] \"goss_beta\" set but \"sampling_method\" not equal to \"GOSS\".\n",
      "[WARNING 24-05-22 11:52:56.6083 BST gradient_boosted_trees.cc:1865] \"selective_gradient_boosting_ratio\" set but \"sampling_method\" not equal to \"SELGB\".\n"
     ]
    },
    {
     "name": "stdout",
     "output_type": "stream",
     "text": [
      "i:39\n"
     ]
    },
    {
     "name": "stderr",
     "output_type": "stream",
     "text": [
      "[INFO 24-05-22 11:52:56.8442 BST kernel.cc:1233] Loading model from path /var/folders/km/2_7xtqxn6x94c9qsgqjs2jc0_h98zq/T/tmpmg7xfsg8/model/ with prefix 4f29496f775b4808\n",
      "[INFO 24-05-22 11:52:56.8564 BST kernel.cc:1061] Use fast generic engine\n",
      "[WARNING 24-05-22 11:52:57.0032 BST gradient_boosted_trees.cc:1840] \"goss_alpha\" set but \"sampling_method\" not equal to \"GOSS\".\n",
      "[WARNING 24-05-22 11:52:57.0032 BST gradient_boosted_trees.cc:1851] \"goss_beta\" set but \"sampling_method\" not equal to \"GOSS\".\n",
      "[WARNING 24-05-22 11:52:57.0032 BST gradient_boosted_trees.cc:1865] \"selective_gradient_boosting_ratio\" set but \"sampling_method\" not equal to \"SELGB\".\n"
     ]
    },
    {
     "name": "stdout",
     "output_type": "stream",
     "text": [
      "i:40\n"
     ]
    },
    {
     "name": "stderr",
     "output_type": "stream",
     "text": [
      "[INFO 24-05-22 11:52:57.2077 BST kernel.cc:1233] Loading model from path /var/folders/km/2_7xtqxn6x94c9qsgqjs2jc0_h98zq/T/tmpdufzxreh/model/ with prefix 8e670e2ababb487d\n",
      "[INFO 24-05-22 11:52:57.2212 BST kernel.cc:1061] Use fast generic engine\n",
      "[WARNING 24-05-22 11:52:57.3825 BST gradient_boosted_trees.cc:1840] \"goss_alpha\" set but \"sampling_method\" not equal to \"GOSS\".\n",
      "[WARNING 24-05-22 11:52:57.3825 BST gradient_boosted_trees.cc:1851] \"goss_beta\" set but \"sampling_method\" not equal to \"GOSS\".\n",
      "[WARNING 24-05-22 11:52:57.3826 BST gradient_boosted_trees.cc:1865] \"selective_gradient_boosting_ratio\" set but \"sampling_method\" not equal to \"SELGB\".\n"
     ]
    },
    {
     "name": "stdout",
     "output_type": "stream",
     "text": [
      "i:41\n"
     ]
    },
    {
     "name": "stderr",
     "output_type": "stream",
     "text": [
      "[INFO 24-05-22 11:52:57.6157 BST kernel.cc:1233] Loading model from path /var/folders/km/2_7xtqxn6x94c9qsgqjs2jc0_h98zq/T/tmpvdd440k9/model/ with prefix dabfbd7efb504848\n",
      "[INFO 24-05-22 11:52:57.6216 BST kernel.cc:1061] Use fast generic engine\n",
      "[WARNING 24-05-22 11:52:57.7690 BST gradient_boosted_trees.cc:1840] \"goss_alpha\" set but \"sampling_method\" not equal to \"GOSS\".\n",
      "[WARNING 24-05-22 11:52:57.7690 BST gradient_boosted_trees.cc:1851] \"goss_beta\" set but \"sampling_method\" not equal to \"GOSS\".\n",
      "[WARNING 24-05-22 11:52:57.7690 BST gradient_boosted_trees.cc:1865] \"selective_gradient_boosting_ratio\" set but \"sampling_method\" not equal to \"SELGB\".\n"
     ]
    },
    {
     "name": "stdout",
     "output_type": "stream",
     "text": [
      "i:42\n"
     ]
    },
    {
     "name": "stderr",
     "output_type": "stream",
     "text": [
      "[INFO 24-05-22 11:52:57.9675 BST kernel.cc:1233] Loading model from path /var/folders/km/2_7xtqxn6x94c9qsgqjs2jc0_h98zq/T/tmpkuz821ky/model/ with prefix a79d667379804e35\n",
      "[INFO 24-05-22 11:52:57.9767 BST kernel.cc:1061] Use fast generic engine\n",
      "[WARNING 24-05-22 11:52:58.1264 BST gradient_boosted_trees.cc:1840] \"goss_alpha\" set but \"sampling_method\" not equal to \"GOSS\".\n",
      "[WARNING 24-05-22 11:52:58.1265 BST gradient_boosted_trees.cc:1851] \"goss_beta\" set but \"sampling_method\" not equal to \"GOSS\".\n",
      "[WARNING 24-05-22 11:52:58.1265 BST gradient_boosted_trees.cc:1865] \"selective_gradient_boosting_ratio\" set but \"sampling_method\" not equal to \"SELGB\".\n"
     ]
    },
    {
     "name": "stdout",
     "output_type": "stream",
     "text": [
      "i:43\n"
     ]
    },
    {
     "name": "stderr",
     "output_type": "stream",
     "text": [
      "[INFO 24-05-22 11:52:58.3341 BST kernel.cc:1233] Loading model from path /var/folders/km/2_7xtqxn6x94c9qsgqjs2jc0_h98zq/T/tmpnupwrjuj/model/ with prefix 1ccb06323a974d0c\n",
      "[INFO 24-05-22 11:52:58.3432 BST kernel.cc:1061] Use fast generic engine\n",
      "[WARNING 24-05-22 11:52:58.4973 BST gradient_boosted_trees.cc:1840] \"goss_alpha\" set but \"sampling_method\" not equal to \"GOSS\".\n",
      "[WARNING 24-05-22 11:52:58.4973 BST gradient_boosted_trees.cc:1851] \"goss_beta\" set but \"sampling_method\" not equal to \"GOSS\".\n",
      "[WARNING 24-05-22 11:52:58.4973 BST gradient_boosted_trees.cc:1865] \"selective_gradient_boosting_ratio\" set but \"sampling_method\" not equal to \"SELGB\".\n"
     ]
    },
    {
     "name": "stdout",
     "output_type": "stream",
     "text": [
      "i:44\n"
     ]
    },
    {
     "name": "stderr",
     "output_type": "stream",
     "text": [
      "[INFO 24-05-22 11:52:58.6859 BST kernel.cc:1233] Loading model from path /var/folders/km/2_7xtqxn6x94c9qsgqjs2jc0_h98zq/T/tmp1bbb06qg/model/ with prefix 56c476acaf854b43\n",
      "[INFO 24-05-22 11:52:58.6947 BST kernel.cc:1061] Use fast generic engine\n",
      "[WARNING 24-05-22 11:52:58.8440 BST gradient_boosted_trees.cc:1840] \"goss_alpha\" set but \"sampling_method\" not equal to \"GOSS\".\n",
      "[WARNING 24-05-22 11:52:58.8440 BST gradient_boosted_trees.cc:1851] \"goss_beta\" set but \"sampling_method\" not equal to \"GOSS\".\n",
      "[WARNING 24-05-22 11:52:58.8440 BST gradient_boosted_trees.cc:1865] \"selective_gradient_boosting_ratio\" set but \"sampling_method\" not equal to \"SELGB\".\n"
     ]
    },
    {
     "name": "stdout",
     "output_type": "stream",
     "text": [
      "i:45\n"
     ]
    },
    {
     "name": "stderr",
     "output_type": "stream",
     "text": [
      "[INFO 24-05-22 11:52:59.0195 BST kernel.cc:1233] Loading model from path /var/folders/km/2_7xtqxn6x94c9qsgqjs2jc0_h98zq/T/tmpmr9c4s36/model/ with prefix 6cbb81f6980b4416\n",
      "[INFO 24-05-22 11:52:59.0280 BST kernel.cc:1061] Use fast generic engine\n",
      "[WARNING 24-05-22 11:52:59.1835 BST gradient_boosted_trees.cc:1840] \"goss_alpha\" set but \"sampling_method\" not equal to \"GOSS\".\n",
      "[WARNING 24-05-22 11:52:59.1835 BST gradient_boosted_trees.cc:1851] \"goss_beta\" set but \"sampling_method\" not equal to \"GOSS\".\n",
      "[WARNING 24-05-22 11:52:59.1835 BST gradient_boosted_trees.cc:1865] \"selective_gradient_boosting_ratio\" set but \"sampling_method\" not equal to \"SELGB\".\n"
     ]
    },
    {
     "name": "stdout",
     "output_type": "stream",
     "text": [
      "i:46\n"
     ]
    },
    {
     "name": "stderr",
     "output_type": "stream",
     "text": [
      "[INFO 24-05-22 11:52:59.4315 BST kernel.cc:1233] Loading model from path /var/folders/km/2_7xtqxn6x94c9qsgqjs2jc0_h98zq/T/tmpxxb4xox_/model/ with prefix ef56beb1e05042ba\n",
      "[INFO 24-05-22 11:52:59.4365 BST kernel.cc:1061] Use fast generic engine\n"
     ]
    },
    {
     "name": "stdout",
     "output_type": "stream",
     "text": [
      "i:47\n"
     ]
    },
    {
     "name": "stderr",
     "output_type": "stream",
     "text": [
      "[WARNING 24-05-22 11:52:59.7984 BST gradient_boosted_trees.cc:1840] \"goss_alpha\" set but \"sampling_method\" not equal to \"GOSS\".\n",
      "[WARNING 24-05-22 11:52:59.7985 BST gradient_boosted_trees.cc:1851] \"goss_beta\" set but \"sampling_method\" not equal to \"GOSS\".\n",
      "[WARNING 24-05-22 11:52:59.7985 BST gradient_boosted_trees.cc:1865] \"selective_gradient_boosting_ratio\" set but \"sampling_method\" not equal to \"SELGB\".\n",
      "[INFO 24-05-22 11:53:00.0075 BST kernel.cc:1233] Loading model from path /var/folders/km/2_7xtqxn6x94c9qsgqjs2jc0_h98zq/T/tmp4ohtnj86/model/ with prefix aaf30cab63f241fb\n",
      "[INFO 24-05-22 11:53:00.0197 BST kernel.cc:1061] Use fast generic engine\n",
      "[WARNING 24-05-22 11:53:00.1766 BST gradient_boosted_trees.cc:1840] \"goss_alpha\" set but \"sampling_method\" not equal to \"GOSS\".\n",
      "[WARNING 24-05-22 11:53:00.1766 BST gradient_boosted_trees.cc:1851] \"goss_beta\" set but \"sampling_method\" not equal to \"GOSS\".\n",
      "[WARNING 24-05-22 11:53:00.1766 BST gradient_boosted_trees.cc:1865] \"selective_gradient_boosting_ratio\" set but \"sampling_method\" not equal to \"SELGB\".\n"
     ]
    },
    {
     "name": "stdout",
     "output_type": "stream",
     "text": [
      "i:48\n"
     ]
    },
    {
     "name": "stderr",
     "output_type": "stream",
     "text": [
      "[INFO 24-05-22 11:53:00.3697 BST kernel.cc:1233] Loading model from path /var/folders/km/2_7xtqxn6x94c9qsgqjs2jc0_h98zq/T/tmp68r11x8p/model/ with prefix de694fc792c64cf5\n",
      "[INFO 24-05-22 11:53:00.3795 BST kernel.cc:1061] Use fast generic engine\n",
      "[WARNING 24-05-22 11:53:00.5296 BST gradient_boosted_trees.cc:1840] \"goss_alpha\" set but \"sampling_method\" not equal to \"GOSS\".\n",
      "[WARNING 24-05-22 11:53:00.5297 BST gradient_boosted_trees.cc:1851] \"goss_beta\" set but \"sampling_method\" not equal to \"GOSS\".\n",
      "[WARNING 24-05-22 11:53:00.5297 BST gradient_boosted_trees.cc:1865] \"selective_gradient_boosting_ratio\" set but \"sampling_method\" not equal to \"SELGB\".\n"
     ]
    },
    {
     "name": "stdout",
     "output_type": "stream",
     "text": [
      "i:49\n"
     ]
    },
    {
     "name": "stderr",
     "output_type": "stream",
     "text": [
      "[INFO 24-05-22 11:53:00.7388 BST kernel.cc:1233] Loading model from path /var/folders/km/2_7xtqxn6x94c9qsgqjs2jc0_h98zq/T/tmpu5lvq5_i/model/ with prefix 99bf5f39f64341c1\n",
      "[INFO 24-05-22 11:53:00.7511 BST kernel.cc:1061] Use fast generic engine\n",
      "[WARNING 24-05-22 11:53:00.9034 BST gradient_boosted_trees.cc:1840] \"goss_alpha\" set but \"sampling_method\" not equal to \"GOSS\".\n",
      "[WARNING 24-05-22 11:53:00.9034 BST gradient_boosted_trees.cc:1851] \"goss_beta\" set but \"sampling_method\" not equal to \"GOSS\".\n",
      "[WARNING 24-05-22 11:53:00.9034 BST gradient_boosted_trees.cc:1865] \"selective_gradient_boosting_ratio\" set but \"sampling_method\" not equal to \"SELGB\".\n"
     ]
    },
    {
     "name": "stdout",
     "output_type": "stream",
     "text": [
      "i:50\n"
     ]
    },
    {
     "name": "stderr",
     "output_type": "stream",
     "text": [
      "[INFO 24-05-22 11:53:01.1619 BST kernel.cc:1233] Loading model from path /var/folders/km/2_7xtqxn6x94c9qsgqjs2jc0_h98zq/T/tmppzc0omq9/model/ with prefix 0d3f7b18e2f440df\n",
      "[INFO 24-05-22 11:53:01.1748 BST kernel.cc:1061] Use fast generic engine\n",
      "[WARNING 24-05-22 11:53:01.3303 BST gradient_boosted_trees.cc:1840] \"goss_alpha\" set but \"sampling_method\" not equal to \"GOSS\".\n",
      "[WARNING 24-05-22 11:53:01.3303 BST gradient_boosted_trees.cc:1851] \"goss_beta\" set but \"sampling_method\" not equal to \"GOSS\".\n",
      "[WARNING 24-05-22 11:53:01.3303 BST gradient_boosted_trees.cc:1865] \"selective_gradient_boosting_ratio\" set but \"sampling_method\" not equal to \"SELGB\".\n"
     ]
    },
    {
     "name": "stdout",
     "output_type": "stream",
     "text": [
      "i:51\n"
     ]
    },
    {
     "name": "stderr",
     "output_type": "stream",
     "text": [
      "[INFO 24-05-22 11:53:01.5974 BST kernel.cc:1233] Loading model from path /var/folders/km/2_7xtqxn6x94c9qsgqjs2jc0_h98zq/T/tmp402p1yhy/model/ with prefix f42fc57207ac4da2\n",
      "[INFO 24-05-22 11:53:01.6047 BST kernel.cc:1061] Use fast generic engine\n",
      "[WARNING 24-05-22 11:53:01.7548 BST gradient_boosted_trees.cc:1840] \"goss_alpha\" set but \"sampling_method\" not equal to \"GOSS\".\n",
      "[WARNING 24-05-22 11:53:01.7548 BST gradient_boosted_trees.cc:1851] \"goss_beta\" set but \"sampling_method\" not equal to \"GOSS\".\n",
      "[WARNING 24-05-22 11:53:01.7548 BST gradient_boosted_trees.cc:1865] \"selective_gradient_boosting_ratio\" set but \"sampling_method\" not equal to \"SELGB\".\n"
     ]
    },
    {
     "name": "stdout",
     "output_type": "stream",
     "text": [
      "i:52\n"
     ]
    },
    {
     "name": "stderr",
     "output_type": "stream",
     "text": [
      "[INFO 24-05-22 11:53:01.9490 BST kernel.cc:1233] Loading model from path /var/folders/km/2_7xtqxn6x94c9qsgqjs2jc0_h98zq/T/tmphxkwhqe8/model/ with prefix 22612a1cd23b466e\n",
      "[INFO 24-05-22 11:53:01.9583 BST abstract_model.cc:1344] Engine \"GradientBoostedTreesQuickScorerExtended\" built\n",
      "[INFO 24-05-22 11:53:01.9583 BST kernel.cc:1061] Use fast generic engine\n",
      "[WARNING 24-05-22 11:53:02.1085 BST gradient_boosted_trees.cc:1840] \"goss_alpha\" set but \"sampling_method\" not equal to \"GOSS\".\n",
      "[WARNING 24-05-22 11:53:02.1085 BST gradient_boosted_trees.cc:1851] \"goss_beta\" set but \"sampling_method\" not equal to \"GOSS\".\n",
      "[WARNING 24-05-22 11:53:02.1085 BST gradient_boosted_trees.cc:1865] \"selective_gradient_boosting_ratio\" set but \"sampling_method\" not equal to \"SELGB\".\n"
     ]
    },
    {
     "name": "stdout",
     "output_type": "stream",
     "text": [
      "i:53\n"
     ]
    },
    {
     "name": "stderr",
     "output_type": "stream",
     "text": [
      "[INFO 24-05-22 11:53:02.3028 BST kernel.cc:1233] Loading model from path /var/folders/km/2_7xtqxn6x94c9qsgqjs2jc0_h98zq/T/tmpzta6f5wa/model/ with prefix bfc20e26c7e0491f\n",
      "[INFO 24-05-22 11:53:02.3119 BST kernel.cc:1061] Use fast generic engine\n",
      "[WARNING 24-05-22 11:53:02.4658 BST gradient_boosted_trees.cc:1840] \"goss_alpha\" set but \"sampling_method\" not equal to \"GOSS\".\n",
      "[WARNING 24-05-22 11:53:02.4658 BST gradient_boosted_trees.cc:1851] \"goss_beta\" set but \"sampling_method\" not equal to \"GOSS\".\n",
      "[WARNING 24-05-22 11:53:02.4658 BST gradient_boosted_trees.cc:1865] \"selective_gradient_boosting_ratio\" set but \"sampling_method\" not equal to \"SELGB\".\n"
     ]
    },
    {
     "name": "stdout",
     "output_type": "stream",
     "text": [
      "i:54\n"
     ]
    },
    {
     "name": "stderr",
     "output_type": "stream",
     "text": [
      "[INFO 24-05-22 11:53:02.6788 BST kernel.cc:1233] Loading model from path /var/folders/km/2_7xtqxn6x94c9qsgqjs2jc0_h98zq/T/tmpd3jay7xx/model/ with prefix 8fef5f93c8f1433d\n",
      "[INFO 24-05-22 11:53:02.6930 BST kernel.cc:1061] Use fast generic engine\n",
      "[WARNING 24-05-22 11:53:02.8415 BST gradient_boosted_trees.cc:1840] \"goss_alpha\" set but \"sampling_method\" not equal to \"GOSS\".\n",
      "[WARNING 24-05-22 11:53:02.8415 BST gradient_boosted_trees.cc:1851] \"goss_beta\" set but \"sampling_method\" not equal to \"GOSS\".\n",
      "[WARNING 24-05-22 11:53:02.8415 BST gradient_boosted_trees.cc:1865] \"selective_gradient_boosting_ratio\" set but \"sampling_method\" not equal to \"SELGB\".\n"
     ]
    },
    {
     "name": "stdout",
     "output_type": "stream",
     "text": [
      "i:55\n"
     ]
    },
    {
     "name": "stderr",
     "output_type": "stream",
     "text": [
      "[INFO 24-05-22 11:53:03.0746 BST kernel.cc:1233] Loading model from path /var/folders/km/2_7xtqxn6x94c9qsgqjs2jc0_h98zq/T/tmpq72rrown/model/ with prefix cc6eee110ea84c4f\n",
      "[INFO 24-05-22 11:53:03.0918 BST kernel.cc:1061] Use fast generic engine\n",
      "[WARNING 24-05-22 11:53:03.2415 BST gradient_boosted_trees.cc:1840] \"goss_alpha\" set but \"sampling_method\" not equal to \"GOSS\".\n",
      "[WARNING 24-05-22 11:53:03.2415 BST gradient_boosted_trees.cc:1851] \"goss_beta\" set but \"sampling_method\" not equal to \"GOSS\".\n",
      "[WARNING 24-05-22 11:53:03.2415 BST gradient_boosted_trees.cc:1865] \"selective_gradient_boosting_ratio\" set but \"sampling_method\" not equal to \"SELGB\".\n"
     ]
    },
    {
     "name": "stdout",
     "output_type": "stream",
     "text": [
      "i:56\n"
     ]
    },
    {
     "name": "stderr",
     "output_type": "stream",
     "text": [
      "[INFO 24-05-22 11:53:03.4495 BST kernel.cc:1233] Loading model from path /var/folders/km/2_7xtqxn6x94c9qsgqjs2jc0_h98zq/T/tmpidtk9ia5/model/ with prefix d8f1a97c583346bd\n",
      "[INFO 24-05-22 11:53:03.4559 BST kernel.cc:1061] Use fast generic engine\n",
      "[WARNING 24-05-22 11:53:03.6152 BST gradient_boosted_trees.cc:1840] \"goss_alpha\" set but \"sampling_method\" not equal to \"GOSS\".\n",
      "[WARNING 24-05-22 11:53:03.6152 BST gradient_boosted_trees.cc:1851] \"goss_beta\" set but \"sampling_method\" not equal to \"GOSS\".\n",
      "[WARNING 24-05-22 11:53:03.6152 BST gradient_boosted_trees.cc:1865] \"selective_gradient_boosting_ratio\" set but \"sampling_method\" not equal to \"SELGB\".\n"
     ]
    },
    {
     "name": "stdout",
     "output_type": "stream",
     "text": [
      "i:57\n"
     ]
    },
    {
     "name": "stderr",
     "output_type": "stream",
     "text": [
      "[INFO 24-05-22 11:53:03.7895 BST kernel.cc:1233] Loading model from path /var/folders/km/2_7xtqxn6x94c9qsgqjs2jc0_h98zq/T/tmps3vkakdz/model/ with prefix 6241c3432d9c4297\n",
      "[INFO 24-05-22 11:53:03.7940 BST kernel.cc:1061] Use fast generic engine\n",
      "[WARNING 24-05-22 11:53:03.9428 BST gradient_boosted_trees.cc:1840] \"goss_alpha\" set but \"sampling_method\" not equal to \"GOSS\".\n",
      "[WARNING 24-05-22 11:53:03.9428 BST gradient_boosted_trees.cc:1851] \"goss_beta\" set but \"sampling_method\" not equal to \"GOSS\".\n",
      "[WARNING 24-05-22 11:53:03.9428 BST gradient_boosted_trees.cc:1865] \"selective_gradient_boosting_ratio\" set but \"sampling_method\" not equal to \"SELGB\".\n"
     ]
    },
    {
     "name": "stdout",
     "output_type": "stream",
     "text": [
      "i:58\n"
     ]
    },
    {
     "name": "stderr",
     "output_type": "stream",
     "text": [
      "[INFO 24-05-22 11:53:04.2286 BST kernel.cc:1233] Loading model from path /var/folders/km/2_7xtqxn6x94c9qsgqjs2jc0_h98zq/T/tmpogbrxny5/model/ with prefix f01105727fee49b5\n",
      "[INFO 24-05-22 11:53:04.2596 BST kernel.cc:1061] Use fast generic engine\n",
      "[WARNING 24-05-22 11:53:04.4120 BST gradient_boosted_trees.cc:1840] \"goss_alpha\" set but \"sampling_method\" not equal to \"GOSS\".\n",
      "[WARNING 24-05-22 11:53:04.4120 BST gradient_boosted_trees.cc:1851] \"goss_beta\" set but \"sampling_method\" not equal to \"GOSS\".\n",
      "[WARNING 24-05-22 11:53:04.4120 BST gradient_boosted_trees.cc:1865] \"selective_gradient_boosting_ratio\" set but \"sampling_method\" not equal to \"SELGB\".\n"
     ]
    },
    {
     "name": "stdout",
     "output_type": "stream",
     "text": [
      "i:59\n"
     ]
    },
    {
     "name": "stderr",
     "output_type": "stream",
     "text": [
      "[INFO 24-05-22 11:53:04.6831 BST kernel.cc:1233] Loading model from path /var/folders/km/2_7xtqxn6x94c9qsgqjs2jc0_h98zq/T/tmpuhwhzw0o/model/ with prefix 967b23f919a64abf\n",
      "[INFO 24-05-22 11:53:04.6960 BST kernel.cc:1061] Use fast generic engine\n",
      "[WARNING 24-05-22 11:53:04.8464 BST gradient_boosted_trees.cc:1840] \"goss_alpha\" set but \"sampling_method\" not equal to \"GOSS\".\n",
      "[WARNING 24-05-22 11:53:04.8464 BST gradient_boosted_trees.cc:1851] \"goss_beta\" set but \"sampling_method\" not equal to \"GOSS\".\n",
      "[WARNING 24-05-22 11:53:04.8464 BST gradient_boosted_trees.cc:1865] \"selective_gradient_boosting_ratio\" set but \"sampling_method\" not equal to \"SELGB\".\n"
     ]
    },
    {
     "name": "stdout",
     "output_type": "stream",
     "text": [
      "i:60\n"
     ]
    },
    {
     "name": "stderr",
     "output_type": "stream",
     "text": [
      "[INFO 24-05-22 11:53:05.0307 BST kernel.cc:1233] Loading model from path /var/folders/km/2_7xtqxn6x94c9qsgqjs2jc0_h98zq/T/tmp6trorfxy/model/ with prefix e3380774e82343e3\n",
      "[INFO 24-05-22 11:53:05.0433 BST kernel.cc:1061] Use fast generic engine\n",
      "[WARNING 24-05-22 11:53:05.1923 BST gradient_boosted_trees.cc:1840] \"goss_alpha\" set but \"sampling_method\" not equal to \"GOSS\".\n",
      "[WARNING 24-05-22 11:53:05.1924 BST gradient_boosted_trees.cc:1851] \"goss_beta\" set but \"sampling_method\" not equal to \"GOSS\".\n",
      "[WARNING 24-05-22 11:53:05.1924 BST gradient_boosted_trees.cc:1865] \"selective_gradient_boosting_ratio\" set but \"sampling_method\" not equal to \"SELGB\".\n"
     ]
    },
    {
     "name": "stdout",
     "output_type": "stream",
     "text": [
      "i:61\n"
     ]
    },
    {
     "name": "stderr",
     "output_type": "stream",
     "text": [
      "[INFO 24-05-22 11:53:05.4029 BST kernel.cc:1233] Loading model from path /var/folders/km/2_7xtqxn6x94c9qsgqjs2jc0_h98zq/T/tmpdza0e1na/model/ with prefix 7f66ea75cb414082\n",
      "[INFO 24-05-22 11:53:05.4222 BST kernel.cc:1061] Use fast generic engine\n",
      "[WARNING 24-05-22 11:53:05.5799 BST gradient_boosted_trees.cc:1840] \"goss_alpha\" set but \"sampling_method\" not equal to \"GOSS\".\n",
      "[WARNING 24-05-22 11:53:05.5799 BST gradient_boosted_trees.cc:1851] \"goss_beta\" set but \"sampling_method\" not equal to \"GOSS\".\n",
      "[WARNING 24-05-22 11:53:05.5799 BST gradient_boosted_trees.cc:1865] \"selective_gradient_boosting_ratio\" set but \"sampling_method\" not equal to \"SELGB\".\n"
     ]
    },
    {
     "name": "stdout",
     "output_type": "stream",
     "text": [
      "i:62\n"
     ]
    },
    {
     "name": "stderr",
     "output_type": "stream",
     "text": [
      "[INFO 24-05-22 11:53:05.7905 BST kernel.cc:1233] Loading model from path /var/folders/km/2_7xtqxn6x94c9qsgqjs2jc0_h98zq/T/tmpteo4n1p6/model/ with prefix a88835d705884e4c\n",
      "[INFO 24-05-22 11:53:05.7957 BST kernel.cc:1061] Use fast generic engine\n",
      "[WARNING 24-05-22 11:53:05.9447 BST gradient_boosted_trees.cc:1840] \"goss_alpha\" set but \"sampling_method\" not equal to \"GOSS\".\n",
      "[WARNING 24-05-22 11:53:05.9448 BST gradient_boosted_trees.cc:1851] \"goss_beta\" set but \"sampling_method\" not equal to \"GOSS\".\n",
      "[WARNING 24-05-22 11:53:05.9448 BST gradient_boosted_trees.cc:1865] \"selective_gradient_boosting_ratio\" set but \"sampling_method\" not equal to \"SELGB\".\n"
     ]
    },
    {
     "name": "stdout",
     "output_type": "stream",
     "text": [
      "i:63\n"
     ]
    },
    {
     "name": "stderr",
     "output_type": "stream",
     "text": [
      "[INFO 24-05-22 11:53:06.1365 BST kernel.cc:1233] Loading model from path /var/folders/km/2_7xtqxn6x94c9qsgqjs2jc0_h98zq/T/tmp2f129cp_/model/ with prefix f8371378f1e64d73\n",
      "[INFO 24-05-22 11:53:06.1470 BST kernel.cc:1061] Use fast generic engine\n",
      "[WARNING 24-05-22 11:53:06.2947 BST gradient_boosted_trees.cc:1840] \"goss_alpha\" set but \"sampling_method\" not equal to \"GOSS\".\n",
      "[WARNING 24-05-22 11:53:06.2947 BST gradient_boosted_trees.cc:1851] \"goss_beta\" set but \"sampling_method\" not equal to \"GOSS\".\n",
      "[WARNING 24-05-22 11:53:06.2947 BST gradient_boosted_trees.cc:1865] \"selective_gradient_boosting_ratio\" set but \"sampling_method\" not equal to \"SELGB\".\n"
     ]
    },
    {
     "name": "stdout",
     "output_type": "stream",
     "text": [
      "i:64\n"
     ]
    },
    {
     "name": "stderr",
     "output_type": "stream",
     "text": [
      "[INFO 24-05-22 11:53:06.5103 BST kernel.cc:1233] Loading model from path /var/folders/km/2_7xtqxn6x94c9qsgqjs2jc0_h98zq/T/tmp8ji6fmjw/model/ with prefix 41f912dbcc9c4df2\n",
      "[INFO 24-05-22 11:53:06.5216 BST kernel.cc:1061] Use fast generic engine\n",
      "[WARNING 24-05-22 11:53:06.6691 BST gradient_boosted_trees.cc:1840] \"goss_alpha\" set but \"sampling_method\" not equal to \"GOSS\".\n",
      "[WARNING 24-05-22 11:53:06.6691 BST gradient_boosted_trees.cc:1851] \"goss_beta\" set but \"sampling_method\" not equal to \"GOSS\".\n",
      "[WARNING 24-05-22 11:53:06.6691 BST gradient_boosted_trees.cc:1865] \"selective_gradient_boosting_ratio\" set but \"sampling_method\" not equal to \"SELGB\".\n"
     ]
    },
    {
     "name": "stdout",
     "output_type": "stream",
     "text": [
      "i:65\n"
     ]
    },
    {
     "name": "stderr",
     "output_type": "stream",
     "text": [
      "[INFO 24-05-22 11:53:06.8999 BST kernel.cc:1233] Loading model from path /var/folders/km/2_7xtqxn6x94c9qsgqjs2jc0_h98zq/T/tmpjdet5jf5/model/ with prefix f7d304f40bc04352\n",
      "[INFO 24-05-22 11:53:06.9106 BST kernel.cc:1061] Use fast generic engine\n",
      "[WARNING 24-05-22 11:53:07.0567 BST gradient_boosted_trees.cc:1840] \"goss_alpha\" set but \"sampling_method\" not equal to \"GOSS\".\n",
      "[WARNING 24-05-22 11:53:07.0567 BST gradient_boosted_trees.cc:1851] \"goss_beta\" set but \"sampling_method\" not equal to \"GOSS\".\n",
      "[WARNING 24-05-22 11:53:07.0567 BST gradient_boosted_trees.cc:1865] \"selective_gradient_boosting_ratio\" set but \"sampling_method\" not equal to \"SELGB\".\n"
     ]
    },
    {
     "name": "stdout",
     "output_type": "stream",
     "text": [
      "i:66\n"
     ]
    },
    {
     "name": "stderr",
     "output_type": "stream",
     "text": [
      "[INFO 24-05-22 11:53:07.2521 BST kernel.cc:1233] Loading model from path /var/folders/km/2_7xtqxn6x94c9qsgqjs2jc0_h98zq/T/tmp3m73cbgj/model/ with prefix 34903fd0a20e4e64\n",
      "[INFO 24-05-22 11:53:07.2641 BST kernel.cc:1061] Use fast generic engine\n",
      "[WARNING 24-05-22 11:53:07.4174 BST gradient_boosted_trees.cc:1840] \"goss_alpha\" set but \"sampling_method\" not equal to \"GOSS\".\n",
      "[WARNING 24-05-22 11:53:07.4174 BST gradient_boosted_trees.cc:1851] \"goss_beta\" set but \"sampling_method\" not equal to \"GOSS\".\n",
      "[WARNING 24-05-22 11:53:07.4175 BST gradient_boosted_trees.cc:1865] \"selective_gradient_boosting_ratio\" set but \"sampling_method\" not equal to \"SELGB\".\n"
     ]
    },
    {
     "name": "stdout",
     "output_type": "stream",
     "text": [
      "i:67\n"
     ]
    },
    {
     "name": "stderr",
     "output_type": "stream",
     "text": [
      "[INFO 24-05-22 11:53:07.6491 BST kernel.cc:1233] Loading model from path /var/folders/km/2_7xtqxn6x94c9qsgqjs2jc0_h98zq/T/tmpbofal86k/model/ with prefix 659ebe5b22d342e2\n",
      "[INFO 24-05-22 11:53:07.6543 BST kernel.cc:1061] Use fast generic engine\n",
      "[WARNING 24-05-22 11:53:07.8046 BST gradient_boosted_trees.cc:1840] \"goss_alpha\" set but \"sampling_method\" not equal to \"GOSS\".\n",
      "[WARNING 24-05-22 11:53:07.8046 BST gradient_boosted_trees.cc:1851] \"goss_beta\" set but \"sampling_method\" not equal to \"GOSS\".\n",
      "[WARNING 24-05-22 11:53:07.8047 BST gradient_boosted_trees.cc:1865] \"selective_gradient_boosting_ratio\" set but \"sampling_method\" not equal to \"SELGB\".\n"
     ]
    },
    {
     "name": "stdout",
     "output_type": "stream",
     "text": [
      "i:68\n"
     ]
    },
    {
     "name": "stderr",
     "output_type": "stream",
     "text": [
      "[INFO 24-05-22 11:53:08.0397 BST kernel.cc:1233] Loading model from path /var/folders/km/2_7xtqxn6x94c9qsgqjs2jc0_h98zq/T/tmp_2bl8x9v/model/ with prefix 667b1485c62946e0\n",
      "[INFO 24-05-22 11:53:08.0503 BST kernel.cc:1061] Use fast generic engine\n",
      "[WARNING 24-05-22 11:53:08.1987 BST gradient_boosted_trees.cc:1840] \"goss_alpha\" set but \"sampling_method\" not equal to \"GOSS\".\n",
      "[WARNING 24-05-22 11:53:08.1987 BST gradient_boosted_trees.cc:1851] \"goss_beta\" set but \"sampling_method\" not equal to \"GOSS\".\n",
      "[WARNING 24-05-22 11:53:08.1987 BST gradient_boosted_trees.cc:1865] \"selective_gradient_boosting_ratio\" set but \"sampling_method\" not equal to \"SELGB\".\n"
     ]
    },
    {
     "name": "stdout",
     "output_type": "stream",
     "text": [
      "i:69\n"
     ]
    },
    {
     "name": "stderr",
     "output_type": "stream",
     "text": [
      "[INFO 24-05-22 11:53:08.4346 BST kernel.cc:1233] Loading model from path /var/folders/km/2_7xtqxn6x94c9qsgqjs2jc0_h98zq/T/tmp1_6awh2w/model/ with prefix e3aa4255d6954fbe\n",
      "[INFO 24-05-22 11:53:08.4452 BST kernel.cc:1061] Use fast generic engine\n",
      "[WARNING 24-05-22 11:53:08.5997 BST gradient_boosted_trees.cc:1840] \"goss_alpha\" set but \"sampling_method\" not equal to \"GOSS\".\n",
      "[WARNING 24-05-22 11:53:08.5997 BST gradient_boosted_trees.cc:1851] \"goss_beta\" set but \"sampling_method\" not equal to \"GOSS\".\n",
      "[WARNING 24-05-22 11:53:08.5997 BST gradient_boosted_trees.cc:1865] \"selective_gradient_boosting_ratio\" set but \"sampling_method\" not equal to \"SELGB\".\n"
     ]
    },
    {
     "name": "stdout",
     "output_type": "stream",
     "text": [
      "i:70\n"
     ]
    },
    {
     "name": "stderr",
     "output_type": "stream",
     "text": [
      "[INFO 24-05-22 11:53:08.7897 BST kernel.cc:1233] Loading model from path /var/folders/km/2_7xtqxn6x94c9qsgqjs2jc0_h98zq/T/tmpskf0dsl8/model/ with prefix 8911c5bfdece4a00\n",
      "[INFO 24-05-22 11:53:08.8020 BST kernel.cc:1061] Use fast generic engine\n",
      "[WARNING 24-05-22 11:53:08.9504 BST gradient_boosted_trees.cc:1840] \"goss_alpha\" set but \"sampling_method\" not equal to \"GOSS\".\n",
      "[WARNING 24-05-22 11:53:08.9504 BST gradient_boosted_trees.cc:1851] \"goss_beta\" set but \"sampling_method\" not equal to \"GOSS\".\n",
      "[WARNING 24-05-22 11:53:08.9504 BST gradient_boosted_trees.cc:1865] \"selective_gradient_boosting_ratio\" set but \"sampling_method\" not equal to \"SELGB\".\n"
     ]
    },
    {
     "name": "stdout",
     "output_type": "stream",
     "text": [
      "i:71\n"
     ]
    },
    {
     "name": "stderr",
     "output_type": "stream",
     "text": [
      "[INFO 24-05-22 11:53:09.1297 BST kernel.cc:1233] Loading model from path /var/folders/km/2_7xtqxn6x94c9qsgqjs2jc0_h98zq/T/tmpnpypkg5g/model/ with prefix 05ea49a4ebf2479d\n",
      "[INFO 24-05-22 11:53:09.1415 BST kernel.cc:1061] Use fast generic engine\n",
      "[WARNING 24-05-22 11:53:09.2933 BST gradient_boosted_trees.cc:1840] \"goss_alpha\" set but \"sampling_method\" not equal to \"GOSS\".\n",
      "[WARNING 24-05-22 11:53:09.2933 BST gradient_boosted_trees.cc:1851] \"goss_beta\" set but \"sampling_method\" not equal to \"GOSS\".\n",
      "[WARNING 24-05-22 11:53:09.2934 BST gradient_boosted_trees.cc:1865] \"selective_gradient_boosting_ratio\" set but \"sampling_method\" not equal to \"SELGB\".\n"
     ]
    },
    {
     "name": "stdout",
     "output_type": "stream",
     "text": [
      "i:72\n"
     ]
    },
    {
     "name": "stderr",
     "output_type": "stream",
     "text": [
      "[INFO 24-05-22 11:53:09.5124 BST kernel.cc:1233] Loading model from path /var/folders/km/2_7xtqxn6x94c9qsgqjs2jc0_h98zq/T/tmpyz36w3ja/model/ with prefix 3a7bf664162348c8\n",
      "[INFO 24-05-22 11:53:09.5212 BST kernel.cc:1061] Use fast generic engine\n",
      "[WARNING 24-05-22 11:53:09.6761 BST gradient_boosted_trees.cc:1840] \"goss_alpha\" set but \"sampling_method\" not equal to \"GOSS\".\n",
      "[WARNING 24-05-22 11:53:09.6761 BST gradient_boosted_trees.cc:1851] \"goss_beta\" set but \"sampling_method\" not equal to \"GOSS\".\n",
      "[WARNING 24-05-22 11:53:09.6762 BST gradient_boosted_trees.cc:1865] \"selective_gradient_boosting_ratio\" set but \"sampling_method\" not equal to \"SELGB\".\n"
     ]
    },
    {
     "name": "stdout",
     "output_type": "stream",
     "text": [
      "i:73\n"
     ]
    },
    {
     "name": "stderr",
     "output_type": "stream",
     "text": [
      "[INFO 24-05-22 11:53:09.8450 BST kernel.cc:1233] Loading model from path /var/folders/km/2_7xtqxn6x94c9qsgqjs2jc0_h98zq/T/tmppjab6_7q/model/ with prefix e2758537f9334cc3\n",
      "[INFO 24-05-22 11:53:09.8488 BST kernel.cc:1061] Use fast generic engine\n",
      "[WARNING 24-05-22 11:53:09.9961 BST gradient_boosted_trees.cc:1840] \"goss_alpha\" set but \"sampling_method\" not equal to \"GOSS\".\n",
      "[WARNING 24-05-22 11:53:09.9961 BST gradient_boosted_trees.cc:1851] \"goss_beta\" set but \"sampling_method\" not equal to \"GOSS\".\n",
      "[WARNING 24-05-22 11:53:09.9961 BST gradient_boosted_trees.cc:1865] \"selective_gradient_boosting_ratio\" set but \"sampling_method\" not equal to \"SELGB\".\n"
     ]
    },
    {
     "name": "stdout",
     "output_type": "stream",
     "text": [
      "i:74\n"
     ]
    },
    {
     "name": "stderr",
     "output_type": "stream",
     "text": [
      "[INFO 24-05-22 11:53:10.2842 BST kernel.cc:1233] Loading model from path /var/folders/km/2_7xtqxn6x94c9qsgqjs2jc0_h98zq/T/tmptutm8sx6/model/ with prefix 08a6cfb5cb574944\n",
      "[INFO 24-05-22 11:53:10.3020 BST kernel.cc:1061] Use fast generic engine\n",
      "[WARNING 24-05-22 11:53:10.4497 BST gradient_boosted_trees.cc:1840] \"goss_alpha\" set but \"sampling_method\" not equal to \"GOSS\".\n",
      "[WARNING 24-05-22 11:53:10.4498 BST gradient_boosted_trees.cc:1851] \"goss_beta\" set but \"sampling_method\" not equal to \"GOSS\".\n",
      "[WARNING 24-05-22 11:53:10.4498 BST gradient_boosted_trees.cc:1865] \"selective_gradient_boosting_ratio\" set but \"sampling_method\" not equal to \"SELGB\".\n"
     ]
    },
    {
     "name": "stdout",
     "output_type": "stream",
     "text": [
      "i:75\n"
     ]
    },
    {
     "name": "stderr",
     "output_type": "stream",
     "text": [
      "[INFO 24-05-22 11:53:10.6329 BST kernel.cc:1233] Loading model from path /var/folders/km/2_7xtqxn6x94c9qsgqjs2jc0_h98zq/T/tmpkfu275z2/model/ with prefix 29b48d5f38c448cd\n",
      "[INFO 24-05-22 11:53:10.6413 BST kernel.cc:1061] Use fast generic engine\n",
      "[WARNING 24-05-22 11:53:10.7885 BST gradient_boosted_trees.cc:1840] \"goss_alpha\" set but \"sampling_method\" not equal to \"GOSS\".\n",
      "[WARNING 24-05-22 11:53:10.7885 BST gradient_boosted_trees.cc:1851] \"goss_beta\" set but \"sampling_method\" not equal to \"GOSS\".\n",
      "[WARNING 24-05-22 11:53:10.7885 BST gradient_boosted_trees.cc:1865] \"selective_gradient_boosting_ratio\" set but \"sampling_method\" not equal to \"SELGB\".\n"
     ]
    },
    {
     "name": "stdout",
     "output_type": "stream",
     "text": [
      "i:76\n"
     ]
    },
    {
     "name": "stderr",
     "output_type": "stream",
     "text": [
      "[INFO 24-05-22 11:53:10.9710 BST kernel.cc:1233] Loading model from path /var/folders/km/2_7xtqxn6x94c9qsgqjs2jc0_h98zq/T/tmps_xt98_u/model/ with prefix fcf79695c08845dc\n",
      "[INFO 24-05-22 11:53:10.9795 BST kernel.cc:1061] Use fast generic engine\n",
      "[WARNING 24-05-22 11:53:11.1265 BST gradient_boosted_trees.cc:1840] \"goss_alpha\" set but \"sampling_method\" not equal to \"GOSS\".\n",
      "[WARNING 24-05-22 11:53:11.1265 BST gradient_boosted_trees.cc:1851] \"goss_beta\" set but \"sampling_method\" not equal to \"GOSS\".\n",
      "[WARNING 24-05-22 11:53:11.1266 BST gradient_boosted_trees.cc:1865] \"selective_gradient_boosting_ratio\" set but \"sampling_method\" not equal to \"SELGB\".\n"
     ]
    },
    {
     "name": "stdout",
     "output_type": "stream",
     "text": [
      "i:77\n"
     ]
    },
    {
     "name": "stderr",
     "output_type": "stream",
     "text": [
      "[INFO 24-05-22 11:53:11.5875 BST kernel.cc:1233] Loading model from path /var/folders/km/2_7xtqxn6x94c9qsgqjs2jc0_h98zq/T/tmp0pugb30m/model/ with prefix 284bc03e06834b7a\n",
      "[INFO 24-05-22 11:53:11.5945 BST kernel.cc:1061] Use fast generic engine\n",
      "[WARNING 24-05-22 11:53:11.7568 BST gradient_boosted_trees.cc:1840] \"goss_alpha\" set but \"sampling_method\" not equal to \"GOSS\".\n",
      "[WARNING 24-05-22 11:53:11.7568 BST gradient_boosted_trees.cc:1851] \"goss_beta\" set but \"sampling_method\" not equal to \"GOSS\".\n",
      "[WARNING 24-05-22 11:53:11.7568 BST gradient_boosted_trees.cc:1865] \"selective_gradient_boosting_ratio\" set but \"sampling_method\" not equal to \"SELGB\".\n"
     ]
    },
    {
     "name": "stdout",
     "output_type": "stream",
     "text": [
      "i:78\n"
     ]
    },
    {
     "name": "stderr",
     "output_type": "stream",
     "text": [
      "[INFO 24-05-22 11:53:11.9348 BST kernel.cc:1233] Loading model from path /var/folders/km/2_7xtqxn6x94c9qsgqjs2jc0_h98zq/T/tmp8pienjvt/model/ with prefix cd1f7f9bdf6049e2\n",
      "[INFO 24-05-22 11:53:11.9396 BST kernel.cc:1061] Use fast generic engine\n",
      "[WARNING 24-05-22 11:53:12.1038 BST gradient_boosted_trees.cc:1840] \"goss_alpha\" set but \"sampling_method\" not equal to \"GOSS\".\n",
      "[WARNING 24-05-22 11:53:12.1038 BST gradient_boosted_trees.cc:1851] \"goss_beta\" set but \"sampling_method\" not equal to \"GOSS\".\n",
      "[WARNING 24-05-22 11:53:12.1038 BST gradient_boosted_trees.cc:1865] \"selective_gradient_boosting_ratio\" set but \"sampling_method\" not equal to \"SELGB\".\n"
     ]
    },
    {
     "name": "stdout",
     "output_type": "stream",
     "text": [
      "i:79\n"
     ]
    },
    {
     "name": "stderr",
     "output_type": "stream",
     "text": [
      "[INFO 24-05-22 11:53:12.3392 BST kernel.cc:1233] Loading model from path /var/folders/km/2_7xtqxn6x94c9qsgqjs2jc0_h98zq/T/tmpeat74srr/model/ with prefix 1bfabb549d1941d6\n",
      "[INFO 24-05-22 11:53:12.3521 BST abstract_model.cc:1344] Engine \"GradientBoostedTreesQuickScorerExtended\" built\n",
      "[INFO 24-05-22 11:53:12.3521 BST kernel.cc:1061] Use fast generic engine\n",
      "[WARNING 24-05-22 11:53:12.5066 BST gradient_boosted_trees.cc:1840] \"goss_alpha\" set but \"sampling_method\" not equal to \"GOSS\".\n",
      "[WARNING 24-05-22 11:53:12.5066 BST gradient_boosted_trees.cc:1851] \"goss_beta\" set but \"sampling_method\" not equal to \"GOSS\".\n",
      "[WARNING 24-05-22 11:53:12.5066 BST gradient_boosted_trees.cc:1865] \"selective_gradient_boosting_ratio\" set but \"sampling_method\" not equal to \"SELGB\".\n"
     ]
    },
    {
     "name": "stdout",
     "output_type": "stream",
     "text": [
      "i:80\n"
     ]
    },
    {
     "name": "stderr",
     "output_type": "stream",
     "text": [
      "[INFO 24-05-22 11:53:12.7039 BST kernel.cc:1233] Loading model from path /var/folders/km/2_7xtqxn6x94c9qsgqjs2jc0_h98zq/T/tmpf_oxttq0/model/ with prefix 4744067038934a19\n",
      "[INFO 24-05-22 11:53:12.7179 BST kernel.cc:1061] Use fast generic engine\n",
      "[WARNING 24-05-22 11:53:12.8721 BST gradient_boosted_trees.cc:1840] \"goss_alpha\" set but \"sampling_method\" not equal to \"GOSS\".\n",
      "[WARNING 24-05-22 11:53:12.8721 BST gradient_boosted_trees.cc:1851] \"goss_beta\" set but \"sampling_method\" not equal to \"GOSS\".\n",
      "[WARNING 24-05-22 11:53:12.8721 BST gradient_boosted_trees.cc:1865] \"selective_gradient_boosting_ratio\" set but \"sampling_method\" not equal to \"SELGB\".\n"
     ]
    },
    {
     "name": "stdout",
     "output_type": "stream",
     "text": [
      "i:81\n"
     ]
    },
    {
     "name": "stderr",
     "output_type": "stream",
     "text": [
      "[INFO 24-05-22 11:53:13.0875 BST kernel.cc:1233] Loading model from path /var/folders/km/2_7xtqxn6x94c9qsgqjs2jc0_h98zq/T/tmp97uxarju/model/ with prefix 3ad857b981e04542\n",
      "[INFO 24-05-22 11:53:13.1009 BST kernel.cc:1061] Use fast generic engine\n",
      "[WARNING 24-05-22 11:53:13.2519 BST gradient_boosted_trees.cc:1840] \"goss_alpha\" set but \"sampling_method\" not equal to \"GOSS\".\n",
      "[WARNING 24-05-22 11:53:13.2519 BST gradient_boosted_trees.cc:1851] \"goss_beta\" set but \"sampling_method\" not equal to \"GOSS\".\n",
      "[WARNING 24-05-22 11:53:13.2520 BST gradient_boosted_trees.cc:1865] \"selective_gradient_boosting_ratio\" set but \"sampling_method\" not equal to \"SELGB\".\n"
     ]
    },
    {
     "name": "stdout",
     "output_type": "stream",
     "text": [
      "i:82\n"
     ]
    },
    {
     "name": "stderr",
     "output_type": "stream",
     "text": [
      "[INFO 24-05-22 11:53:13.4823 BST kernel.cc:1233] Loading model from path /var/folders/km/2_7xtqxn6x94c9qsgqjs2jc0_h98zq/T/tmp64r4ud_1/model/ with prefix 54dbb39cb9184e84\n",
      "[INFO 24-05-22 11:53:13.4954 BST kernel.cc:1061] Use fast generic engine\n",
      "[WARNING 24-05-22 11:53:13.6648 BST gradient_boosted_trees.cc:1840] \"goss_alpha\" set but \"sampling_method\" not equal to \"GOSS\".\n",
      "[WARNING 24-05-22 11:53:13.6649 BST gradient_boosted_trees.cc:1851] \"goss_beta\" set but \"sampling_method\" not equal to \"GOSS\".\n",
      "[WARNING 24-05-22 11:53:13.6649 BST gradient_boosted_trees.cc:1865] \"selective_gradient_boosting_ratio\" set but \"sampling_method\" not equal to \"SELGB\".\n"
     ]
    },
    {
     "name": "stdout",
     "output_type": "stream",
     "text": [
      "i:83\n"
     ]
    },
    {
     "name": "stderr",
     "output_type": "stream",
     "text": [
      "[INFO 24-05-22 11:53:13.9057 BST kernel.cc:1233] Loading model from path /var/folders/km/2_7xtqxn6x94c9qsgqjs2jc0_h98zq/T/tmpe5l_85g4/model/ with prefix cffe5b3bfd664312\n",
      "[INFO 24-05-22 11:53:13.9113 BST kernel.cc:1061] Use fast generic engine\n",
      "[WARNING 24-05-22 11:53:14.0623 BST gradient_boosted_trees.cc:1840] \"goss_alpha\" set but \"sampling_method\" not equal to \"GOSS\".\n",
      "[WARNING 24-05-22 11:53:14.0623 BST gradient_boosted_trees.cc:1851] \"goss_beta\" set but \"sampling_method\" not equal to \"GOSS\".\n",
      "[WARNING 24-05-22 11:53:14.0623 BST gradient_boosted_trees.cc:1865] \"selective_gradient_boosting_ratio\" set but \"sampling_method\" not equal to \"SELGB\".\n"
     ]
    },
    {
     "name": "stdout",
     "output_type": "stream",
     "text": [
      "i:84\n"
     ]
    },
    {
     "name": "stderr",
     "output_type": "stream",
     "text": [
      "[INFO 24-05-22 11:53:14.2887 BST kernel.cc:1233] Loading model from path /var/folders/km/2_7xtqxn6x94c9qsgqjs2jc0_h98zq/T/tmpbergf10q/model/ with prefix a34a9d8233fc4ec6\n",
      "[INFO 24-05-22 11:53:14.2938 BST kernel.cc:1061] Use fast generic engine\n",
      "[WARNING 24-05-22 11:53:14.4439 BST gradient_boosted_trees.cc:1840] \"goss_alpha\" set but \"sampling_method\" not equal to \"GOSS\".\n",
      "[WARNING 24-05-22 11:53:14.4439 BST gradient_boosted_trees.cc:1851] \"goss_beta\" set but \"sampling_method\" not equal to \"GOSS\".\n",
      "[WARNING 24-05-22 11:53:14.4439 BST gradient_boosted_trees.cc:1865] \"selective_gradient_boosting_ratio\" set but \"sampling_method\" not equal to \"SELGB\".\n"
     ]
    },
    {
     "name": "stdout",
     "output_type": "stream",
     "text": [
      "i:85\n"
     ]
    },
    {
     "name": "stderr",
     "output_type": "stream",
     "text": [
      "[INFO 24-05-22 11:53:14.6692 BST kernel.cc:1233] Loading model from path /var/folders/km/2_7xtqxn6x94c9qsgqjs2jc0_h98zq/T/tmpogw8yrg6/model/ with prefix 2575d4fbcff04e02\n",
      "[INFO 24-05-22 11:53:14.6836 BST kernel.cc:1061] Use fast generic engine\n",
      "[WARNING 24-05-22 11:53:14.8326 BST gradient_boosted_trees.cc:1840] \"goss_alpha\" set but \"sampling_method\" not equal to \"GOSS\".\n",
      "[WARNING 24-05-22 11:53:14.8326 BST gradient_boosted_trees.cc:1851] \"goss_beta\" set but \"sampling_method\" not equal to \"GOSS\".\n",
      "[WARNING 24-05-22 11:53:14.8326 BST gradient_boosted_trees.cc:1865] \"selective_gradient_boosting_ratio\" set but \"sampling_method\" not equal to \"SELGB\".\n"
     ]
    },
    {
     "name": "stdout",
     "output_type": "stream",
     "text": [
      "i:86\n"
     ]
    },
    {
     "name": "stderr",
     "output_type": "stream",
     "text": [
      "[INFO 24-05-22 11:53:15.1066 BST kernel.cc:1233] Loading model from path /var/folders/km/2_7xtqxn6x94c9qsgqjs2jc0_h98zq/T/tmpmtnth500/model/ with prefix f00752caa30c4f3a\n",
      "[INFO 24-05-22 11:53:15.1231 BST kernel.cc:1061] Use fast generic engine\n",
      "[WARNING 24-05-22 11:53:15.2826 BST gradient_boosted_trees.cc:1840] \"goss_alpha\" set but \"sampling_method\" not equal to \"GOSS\".\n",
      "[WARNING 24-05-22 11:53:15.2826 BST gradient_boosted_trees.cc:1851] \"goss_beta\" set but \"sampling_method\" not equal to \"GOSS\".\n",
      "[WARNING 24-05-22 11:53:15.2827 BST gradient_boosted_trees.cc:1865] \"selective_gradient_boosting_ratio\" set but \"sampling_method\" not equal to \"SELGB\".\n"
     ]
    },
    {
     "name": "stdout",
     "output_type": "stream",
     "text": [
      "i:87\n"
     ]
    },
    {
     "name": "stderr",
     "output_type": "stream",
     "text": [
      "[INFO 24-05-22 11:53:15.4942 BST kernel.cc:1233] Loading model from path /var/folders/km/2_7xtqxn6x94c9qsgqjs2jc0_h98zq/T/tmp0ajoqojj/model/ with prefix ae68641894b34572\n",
      "[INFO 24-05-22 11:53:15.5058 BST kernel.cc:1061] Use fast generic engine\n",
      "[WARNING 24-05-22 11:53:15.6706 BST gradient_boosted_trees.cc:1840] \"goss_alpha\" set but \"sampling_method\" not equal to \"GOSS\".\n",
      "[WARNING 24-05-22 11:53:15.6706 BST gradient_boosted_trees.cc:1851] \"goss_beta\" set but \"sampling_method\" not equal to \"GOSS\".\n",
      "[WARNING 24-05-22 11:53:15.6706 BST gradient_boosted_trees.cc:1865] \"selective_gradient_boosting_ratio\" set but \"sampling_method\" not equal to \"SELGB\".\n"
     ]
    },
    {
     "name": "stdout",
     "output_type": "stream",
     "text": [
      "i:88\n"
     ]
    },
    {
     "name": "stderr",
     "output_type": "stream",
     "text": [
      "[INFO 24-05-22 11:53:15.8447 BST kernel.cc:1233] Loading model from path /var/folders/km/2_7xtqxn6x94c9qsgqjs2jc0_h98zq/T/tmps27d0rbp/model/ with prefix 1627e406af784a12\n",
      "[INFO 24-05-22 11:53:15.8483 BST kernel.cc:1061] Use fast generic engine\n",
      "[WARNING 24-05-22 11:53:16.0000 BST gradient_boosted_trees.cc:1840] \"goss_alpha\" set but \"sampling_method\" not equal to \"GOSS\".\n",
      "[WARNING 24-05-22 11:53:16.0001 BST gradient_boosted_trees.cc:1851] \"goss_beta\" set but \"sampling_method\" not equal to \"GOSS\".\n",
      "[WARNING 24-05-22 11:53:16.0001 BST gradient_boosted_trees.cc:1865] \"selective_gradient_boosting_ratio\" set but \"sampling_method\" not equal to \"SELGB\".\n"
     ]
    },
    {
     "name": "stdout",
     "output_type": "stream",
     "text": [
      "i:89\n"
     ]
    },
    {
     "name": "stderr",
     "output_type": "stream",
     "text": [
      "[INFO 24-05-22 11:53:16.2093 BST kernel.cc:1233] Loading model from path /var/folders/km/2_7xtqxn6x94c9qsgqjs2jc0_h98zq/T/tmplj5lxlq8/model/ with prefix 572d04b83c944a4a\n",
      "[INFO 24-05-22 11:53:16.2213 BST kernel.cc:1061] Use fast generic engine\n",
      "[WARNING 24-05-22 11:53:16.3695 BST gradient_boosted_trees.cc:1840] \"goss_alpha\" set but \"sampling_method\" not equal to \"GOSS\".\n",
      "[WARNING 24-05-22 11:53:16.3696 BST gradient_boosted_trees.cc:1851] \"goss_beta\" set but \"sampling_method\" not equal to \"GOSS\".\n",
      "[WARNING 24-05-22 11:53:16.3696 BST gradient_boosted_trees.cc:1865] \"selective_gradient_boosting_ratio\" set but \"sampling_method\" not equal to \"SELGB\".\n"
     ]
    },
    {
     "name": "stdout",
     "output_type": "stream",
     "text": [
      "i:90\n"
     ]
    },
    {
     "name": "stderr",
     "output_type": "stream",
     "text": [
      "[INFO 24-05-22 11:53:16.5695 BST kernel.cc:1233] Loading model from path /var/folders/km/2_7xtqxn6x94c9qsgqjs2jc0_h98zq/T/tmpdj47x_ea/model/ with prefix 8ba6737eadb64539\n",
      "[INFO 24-05-22 11:53:16.5822 BST kernel.cc:1061] Use fast generic engine\n",
      "[WARNING 24-05-22 11:53:16.7335 BST gradient_boosted_trees.cc:1840] \"goss_alpha\" set but \"sampling_method\" not equal to \"GOSS\".\n",
      "[WARNING 24-05-22 11:53:16.7335 BST gradient_boosted_trees.cc:1851] \"goss_beta\" set but \"sampling_method\" not equal to \"GOSS\".\n",
      "[WARNING 24-05-22 11:53:16.7335 BST gradient_boosted_trees.cc:1865] \"selective_gradient_boosting_ratio\" set but \"sampling_method\" not equal to \"SELGB\".\n"
     ]
    },
    {
     "name": "stdout",
     "output_type": "stream",
     "text": [
      "i:91\n"
     ]
    },
    {
     "name": "stderr",
     "output_type": "stream",
     "text": [
      "[INFO 24-05-22 11:53:16.9703 BST kernel.cc:1233] Loading model from path /var/folders/km/2_7xtqxn6x94c9qsgqjs2jc0_h98zq/T/tmpd7z42j0f/model/ with prefix 2c623c348efb47d5\n",
      "[INFO 24-05-22 11:53:16.9879 BST kernel.cc:1061] Use fast generic engine\n",
      "[WARNING 24-05-22 11:53:17.1384 BST gradient_boosted_trees.cc:1840] \"goss_alpha\" set but \"sampling_method\" not equal to \"GOSS\".\n",
      "[WARNING 24-05-22 11:53:17.1384 BST gradient_boosted_trees.cc:1851] \"goss_beta\" set but \"sampling_method\" not equal to \"GOSS\".\n",
      "[WARNING 24-05-22 11:53:17.1384 BST gradient_boosted_trees.cc:1865] \"selective_gradient_boosting_ratio\" set but \"sampling_method\" not equal to \"SELGB\".\n"
     ]
    },
    {
     "name": "stdout",
     "output_type": "stream",
     "text": [
      "i:92\n"
     ]
    },
    {
     "name": "stderr",
     "output_type": "stream",
     "text": [
      "[INFO 24-05-22 11:53:17.4656 BST kernel.cc:1233] Loading model from path /var/folders/km/2_7xtqxn6x94c9qsgqjs2jc0_h98zq/T/tmp6s5wd0ow/model/ with prefix cb6c5f1e423a4684\n",
      "[INFO 24-05-22 11:53:17.4867 BST kernel.cc:1061] Use fast generic engine\n",
      "[WARNING 24-05-22 11:53:17.6381 BST gradient_boosted_trees.cc:1840] \"goss_alpha\" set but \"sampling_method\" not equal to \"GOSS\".\n",
      "[WARNING 24-05-22 11:53:17.6382 BST gradient_boosted_trees.cc:1851] \"goss_beta\" set but \"sampling_method\" not equal to \"GOSS\".\n",
      "[WARNING 24-05-22 11:53:17.6382 BST gradient_boosted_trees.cc:1865] \"selective_gradient_boosting_ratio\" set but \"sampling_method\" not equal to \"SELGB\".\n"
     ]
    },
    {
     "name": "stdout",
     "output_type": "stream",
     "text": [
      "i:93\n"
     ]
    },
    {
     "name": "stderr",
     "output_type": "stream",
     "text": [
      "[INFO 24-05-22 11:53:17.8342 BST kernel.cc:1233] Loading model from path /var/folders/km/2_7xtqxn6x94c9qsgqjs2jc0_h98zq/T/tmp73r9c9kk/model/ with prefix 60c84627a2d64220\n",
      "[INFO 24-05-22 11:53:17.8384 BST kernel.cc:1061] Use fast generic engine\n",
      "[WARNING 24-05-22 11:53:17.9974 BST gradient_boosted_trees.cc:1840] \"goss_alpha\" set but \"sampling_method\" not equal to \"GOSS\".\n",
      "[WARNING 24-05-22 11:53:17.9974 BST gradient_boosted_trees.cc:1851] \"goss_beta\" set but \"sampling_method\" not equal to \"GOSS\".\n",
      "[WARNING 24-05-22 11:53:17.9975 BST gradient_boosted_trees.cc:1865] \"selective_gradient_boosting_ratio\" set but \"sampling_method\" not equal to \"SELGB\".\n"
     ]
    },
    {
     "name": "stdout",
     "output_type": "stream",
     "text": [
      "i:94\n"
     ]
    },
    {
     "name": "stderr",
     "output_type": "stream",
     "text": [
      "[INFO 24-05-22 11:53:18.2042 BST kernel.cc:1233] Loading model from path /var/folders/km/2_7xtqxn6x94c9qsgqjs2jc0_h98zq/T/tmpvnxlcgf2/model/ with prefix 2585585211e74151\n",
      "[INFO 24-05-22 11:53:18.2188 BST kernel.cc:1061] Use fast generic engine\n",
      "[WARNING 24-05-22 11:53:18.3679 BST gradient_boosted_trees.cc:1840] \"goss_alpha\" set but \"sampling_method\" not equal to \"GOSS\".\n",
      "[WARNING 24-05-22 11:53:18.3679 BST gradient_boosted_trees.cc:1851] \"goss_beta\" set but \"sampling_method\" not equal to \"GOSS\".\n",
      "[WARNING 24-05-22 11:53:18.3679 BST gradient_boosted_trees.cc:1865] \"selective_gradient_boosting_ratio\" set but \"sampling_method\" not equal to \"SELGB\".\n"
     ]
    },
    {
     "name": "stdout",
     "output_type": "stream",
     "text": [
      "i:95\n"
     ]
    },
    {
     "name": "stderr",
     "output_type": "stream",
     "text": [
      "[INFO 24-05-22 11:53:18.5714 BST kernel.cc:1233] Loading model from path /var/folders/km/2_7xtqxn6x94c9qsgqjs2jc0_h98zq/T/tmp1bf8ra3x/model/ with prefix 8a03b39281874400\n",
      "[INFO 24-05-22 11:53:18.5809 BST kernel.cc:1061] Use fast generic engine\n",
      "[WARNING 24-05-22 11:53:18.7299 BST gradient_boosted_trees.cc:1840] \"goss_alpha\" set but \"sampling_method\" not equal to \"GOSS\".\n",
      "[WARNING 24-05-22 11:53:18.7300 BST gradient_boosted_trees.cc:1851] \"goss_beta\" set but \"sampling_method\" not equal to \"GOSS\".\n",
      "[WARNING 24-05-22 11:53:18.7300 BST gradient_boosted_trees.cc:1865] \"selective_gradient_boosting_ratio\" set but \"sampling_method\" not equal to \"SELGB\".\n"
     ]
    },
    {
     "name": "stdout",
     "output_type": "stream",
     "text": [
      "i:96\n"
     ]
    },
    {
     "name": "stderr",
     "output_type": "stream",
     "text": [
      "[INFO 24-05-22 11:53:18.9394 BST kernel.cc:1233] Loading model from path /var/folders/km/2_7xtqxn6x94c9qsgqjs2jc0_h98zq/T/tmpm01dbg8y/model/ with prefix d3d4cfb51cb84ef0\n",
      "[INFO 24-05-22 11:53:18.9490 BST kernel.cc:1061] Use fast generic engine\n",
      "[WARNING 24-05-22 11:53:19.0959 BST gradient_boosted_trees.cc:1840] \"goss_alpha\" set but \"sampling_method\" not equal to \"GOSS\".\n",
      "[WARNING 24-05-22 11:53:19.0960 BST gradient_boosted_trees.cc:1851] \"goss_beta\" set but \"sampling_method\" not equal to \"GOSS\".\n",
      "[WARNING 24-05-22 11:53:19.0960 BST gradient_boosted_trees.cc:1865] \"selective_gradient_boosting_ratio\" set but \"sampling_method\" not equal to \"SELGB\".\n"
     ]
    },
    {
     "name": "stdout",
     "output_type": "stream",
     "text": [
      "i:97\n"
     ]
    },
    {
     "name": "stderr",
     "output_type": "stream",
     "text": [
      "[INFO 24-05-22 11:53:19.2828 BST kernel.cc:1233] Loading model from path /var/folders/km/2_7xtqxn6x94c9qsgqjs2jc0_h98zq/T/tmp13nvosyt/model/ with prefix 0f77eb9c8aa04849\n",
      "[INFO 24-05-22 11:53:19.2932 BST kernel.cc:1061] Use fast generic engine\n",
      "[WARNING 24-05-22 11:53:19.4410 BST gradient_boosted_trees.cc:1840] \"goss_alpha\" set but \"sampling_method\" not equal to \"GOSS\".\n",
      "[WARNING 24-05-22 11:53:19.4410 BST gradient_boosted_trees.cc:1851] \"goss_beta\" set but \"sampling_method\" not equal to \"GOSS\".\n",
      "[WARNING 24-05-22 11:53:19.4410 BST gradient_boosted_trees.cc:1865] \"selective_gradient_boosting_ratio\" set but \"sampling_method\" not equal to \"SELGB\".\n"
     ]
    },
    {
     "name": "stdout",
     "output_type": "stream",
     "text": [
      "i:98\n"
     ]
    },
    {
     "name": "stderr",
     "output_type": "stream",
     "text": [
      "[INFO 24-05-22 11:53:19.7894 BST kernel.cc:1233] Loading model from path /var/folders/km/2_7xtqxn6x94c9qsgqjs2jc0_h98zq/T/tmpdzf729w5/model/ with prefix 52f4653b31a94c92\n",
      "[INFO 24-05-22 11:53:19.7989 BST kernel.cc:1061] Use fast generic engine\n",
      "[WARNING 24-05-22 11:53:19.9528 BST gradient_boosted_trees.cc:1840] \"goss_alpha\" set but \"sampling_method\" not equal to \"GOSS\".\n",
      "[WARNING 24-05-22 11:53:19.9528 BST gradient_boosted_trees.cc:1851] \"goss_beta\" set but \"sampling_method\" not equal to \"GOSS\".\n",
      "[WARNING 24-05-22 11:53:19.9528 BST gradient_boosted_trees.cc:1865] \"selective_gradient_boosting_ratio\" set but \"sampling_method\" not equal to \"SELGB\".\n"
     ]
    },
    {
     "name": "stdout",
     "output_type": "stream",
     "text": [
      "i:99\n",
      "Submission exported to ./submissions/tf/submission.csv\n"
     ]
    },
    {
     "name": "stderr",
     "output_type": "stream",
     "text": [
      "[INFO 24-05-22 11:53:20.3317 BST kernel.cc:1233] Loading model from path /var/folders/km/2_7xtqxn6x94c9qsgqjs2jc0_h98zq/T/tmp1ajrp6zj/model/ with prefix b1f5c419b21940d6\n",
      "[INFO 24-05-22 11:53:20.3532 BST kernel.cc:1061] Use fast generic engine\n"
     ]
    }
   ],
   "source": [
    "predictions = None\n",
    "num_predictions = 0\n",
    "\n",
    "for i in range(100):\n",
    "    print(f\"i:{i}\")\n",
    "    # Possible models: GradientBoostedTreesModel or RandomForestModel\n",
    "    model = tfdf.keras.GradientBoostedTreesModel(\n",
    "        verbose=0, # Very few logs\n",
    "        features=[tfdf.keras.FeatureUsage(name=n) for n in input_features],\n",
    "        exclude_non_specified_features=True, # Only use the features in \"features\"\n",
    "\n",
    "        #min_examples=1,\n",
    "        #categorical_algorithm=\"RANDOM\",\n",
    "        ##max_depth=4,\n",
    "        #shrinkage=0.05,\n",
    "        ##num_candidate_attributes_ratio=0.2,\n",
    "        #split_axis=\"SPARSE_OBLIQUE\",\n",
    "        #sparse_oblique_normalization=\"MIN_MAX\",\n",
    "        #sparse_oblique_num_projections_exponent=2.0,\n",
    "        #num_trees=2000,\n",
    "        ##validation_ratio=0.0,\n",
    "        random_seed=i,\n",
    "        honest=True,\n",
    "    )\n",
    "    model.fit(train_ds)\n",
    "    \n",
    "    sub_predictions = model.predict(serving_ds, verbose=0)[:,0]\n",
    "    if predictions is None:\n",
    "        predictions = sub_predictions\n",
    "    else:\n",
    "        predictions += sub_predictions\n",
    "    num_predictions += 1\n",
    "\n",
    "predictions/=num_predictions\n",
    "\n",
    "kaggle_predictions = pd.DataFrame({\n",
    "        \"PassengerId\": serving_df[\"PassengerId\"],\n",
    "        \"Survived\": (predictions >= 0.5).astype(int)\n",
    "    })\n",
    "\n",
    "make_submission(kaggle_predictions)"
   ]
  },
  {
   "cell_type": "markdown",
   "id": "700c5851",
   "metadata": {
    "papermill": {
     "duration": 0.028523,
     "end_time": "2023-05-18T10:35:53.504450",
     "exception": false,
     "start_time": "2023-05-18T10:35:53.475927",
     "status": "completed"
    },
    "tags": []
   },
   "source": [
    "# What is next\n",
    "\n",
    "If you want to learn more about TensorFlow Decision Forests and its advanced features, you can follow the official documentation [here](https://www.tensorflow.org/decision_forests) "
   ]
  }
 ],
 "metadata": {
  "kernelspec": {
   "display_name": "Python 3",
   "language": "python",
   "name": "python3"
  },
  "language_info": {
   "codemirror_mode": {
    "name": "ipython",
    "version": 3
   },
   "file_extension": ".py",
   "mimetype": "text/x-python",
   "name": "python",
   "nbconvert_exporter": "python",
   "pygments_lexer": "ipython3",
   "version": "3.11.9"
  },
  "papermill": {
   "default_parameters": {},
   "duration": 324.686677,
   "end_time": "2023-05-18T10:35:56.847460",
   "environment_variables": {},
   "exception": null,
   "input_path": "__notebook__.ipynb",
   "output_path": "__notebook__.ipynb",
   "parameters": {},
   "start_time": "2023-05-18T10:30:32.160783",
   "version": "2.4.0"
  }
 },
 "nbformat": 4,
 "nbformat_minor": 5
}
